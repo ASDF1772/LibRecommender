{
 "cells": [
  {
   "cell_type": "code",
   "execution_count": 1,
   "metadata": {
    "collapsed": true
   },
   "outputs": [],
   "source": [
    "from collections import defaultdict\n",
    "import numpy as np\n",
    "from math import sqrt\n",
    "from multiprocessing import Pool"
   ]
  },
  {
   "cell_type": "code",
   "execution_count": 5,
   "metadata": {
    "collapsed": true
   },
   "outputs": [],
   "source": [
    "# UNDO :  common calculate   raw_id2inner_id  pearson_similarity  predict_ratings"
   ]
  },
  {
   "cell_type": "code",
   "execution_count": 30,
   "metadata": {
    "collapsed": true
   },
   "outputs": [],
   "source": [
    "def common(x1,x2):\n",
    "    # find common ratings\n",
    "    common = (x1 != 0) & (x2 != 0)\n",
    "    new_x1 = x1[common]\n",
    "    new_x2 = x2[common]\n",
    "    return new_x1, new_x2"
   ]
  },
  {
   "cell_type": "code",
   "execution_count": 31,
   "metadata": {},
   "outputs": [
    {
     "data": {
      "text/plain": [
       "(array([1, 3]), array([1, 4]))"
      ]
     },
     "execution_count": 31,
     "metadata": {},
     "output_type": "execute_result"
    }
   ],
   "source": [
    "x = np.array([1,2,3,0])\n",
    "x1 = np.array([1,0, 4, 6])\n",
    "c = (x != 0) & (x1 != 0)\n",
    "x[c], x1[c]"
   ]
  },
  {
   "cell_type": "code",
   "execution_count": null,
   "metadata": {
    "collapsed": true
   },
   "outputs": [],
   "source": []
  },
  {
   "cell_type": "code",
   "execution_count": 2,
   "metadata": {
    "collapsed": true
   },
   "outputs": [],
   "source": [
    "train_set = open(\"ml-1m/ratings.dat\").readlines()"
   ]
  },
  {
   "cell_type": "code",
   "execution_count": 31,
   "metadata": {
    "collapsed": true
   },
   "outputs": [],
   "source": [
    "unique_users = set([i.split(\"::\")[0] for i in train_set])\n",
    "sorted_users = [str(i) for i in np.sort(np.array(list(unique_users)).astype(int))]"
   ]
  },
  {
   "cell_type": "code",
   "execution_count": 32,
   "metadata": {
    "collapsed": true
   },
   "outputs": [],
   "source": [
    "user2id = {user: idx for idx, user in enumerate(sorted_users)}\n",
    "id2user = {idx: user for user, idx in user2id.items()}"
   ]
  },
  {
   "cell_type": "code",
   "execution_count": 33,
   "metadata": {
    "collapsed": true
   },
   "outputs": [],
   "source": [
    "unique_items = set([i.split(\"::\")[1] for i in train_set])\n",
    "sorted_items = [str(i) for i in np.sort(np.array(list(unique_items)).astype(int))]"
   ]
  },
  {
   "cell_type": "code",
   "execution_count": 34,
   "metadata": {
    "collapsed": true
   },
   "outputs": [],
   "source": [
    "item2id = {item: idx for idx, item in enumerate(sorted_items)}\n",
    "id2item = {idx: item for item, idx in item2id.items()}"
   ]
  },
  {
   "cell_type": "code",
   "execution_count": 35,
   "metadata": {
    "collapsed": true
   },
   "outputs": [],
   "source": [
    "data = defaultdict(dict)\n",
    "for i in train_set:\n",
    "    user = i.split(\"::\")[0]\n",
    "    item = i.split(\"::\")[1]\n",
    "    rating = i.split(\"::\")[2]\n",
    "    user_id = user2id[user]\n",
    "    item_id = item2id[item]\n",
    "    data[user_id].update(dict(zip([item_id], [int(rating)])))"
   ]
  },
  {
   "cell_type": "code",
   "execution_count": null,
   "metadata": {
    "collapsed": true
   },
   "outputs": [],
   "source": []
  },
  {
   "cell_type": "code",
   "execution_count": 8,
   "metadata": {
    "collapsed": true
   },
   "outputs": [],
   "source": [
    "data1 = defaultdict(dict)\n",
    "user2id1 = {}\n",
    "item2id1 = {}\n",
    "index_user = 0\n",
    "index_item = 0\n",
    "\n",
    "for i in train_set:\n",
    "    user = i.split(\"::\")[0]\n",
    "    item = i.split(\"::\")[1]\n",
    "    rating = i.split(\"::\")[2]\n",
    "    try:\n",
    "        user_id = user2id1[user]\n",
    "    except KeyError:\n",
    "        user_id = index_user\n",
    "        user2id1[user] = index_user\n",
    "        index_user += 1\n",
    "    try:\n",
    "        item_id = item2id1[item]\n",
    "    except KeyError:\n",
    "        item_id = index_item\n",
    "        item2id1[item] = index_item\n",
    "        index_item += 1\n",
    "        \n",
    "    data1[user_id].update(dict(zip([item_id], [int(rating)])))"
   ]
  },
  {
   "cell_type": "code",
   "execution_count": null,
   "metadata": {
    "collapsed": true
   },
   "outputs": [],
   "source": []
  },
  {
   "cell_type": "code",
   "execution_count": null,
   "metadata": {
    "collapsed": true
   },
   "outputs": [],
   "source": []
  },
  {
   "cell_type": "code",
   "execution_count": null,
   "metadata": {
    "collapsed": true
   },
   "outputs": [],
   "source": []
  },
  {
   "cell_type": "code",
   "execution_count": null,
   "metadata": {
    "collapsed": true
   },
   "outputs": [],
   "source": []
  },
  {
   "cell_type": "code",
   "execution_count": 9,
   "metadata": {
    "collapsed": true
   },
   "outputs": [],
   "source": [
    "example = defaultdict(dict)\n",
    "for key in range(200):\n",
    "#    key = str(key)\n",
    "    example[key] = data[key]"
   ]
  },
  {
   "cell_type": "code",
   "execution_count": 10,
   "metadata": {
    "collapsed": true
   },
   "outputs": [],
   "source": [
    "data = example"
   ]
  },
  {
   "cell_type": "code",
   "execution_count": 11,
   "metadata": {
    "collapsed": true
   },
   "outputs": [],
   "source": [
    "num = len(data.keys())\n",
    "# sorted_keys = [str(i) for i in np.sort(np.array(list(data.keys())).astype(int))]"
   ]
  },
  {
   "cell_type": "code",
   "execution_count": 12,
   "metadata": {
    "collapsed": true
   },
   "outputs": [],
   "source": [
    "def cosine_similarity(dicts, x1, x2):  # only common ratings\n",
    "    prod = denom1 = denom2 = 0\n",
    "    for item in dicts[x1]:\n",
    "        if item in dicts[x2]:\n",
    "            prod += dicts[x1][item] * dicts[x2][item]\n",
    "            denom1 += dicts[x1][item] ** 2\n",
    "            denom2 += dicts[x2][item] ** 2\n",
    "    try:\n",
    "        return prod / sqrt(denom1 * denom2)\n",
    "    except ZeroDivisionError:\n",
    "        return 0"
   ]
  },
  {
   "cell_type": "code",
   "execution_count": 127,
   "metadata": {
    "collapsed": true
   },
   "outputs": [],
   "source": [
    "def cosine_similarity(dicts, x1, x2):\n",
    "    prod = 0\n",
    "    for item in dicts[x1]:\n",
    "        if item in dicts[x2]:\n",
    "            prod += dicts[x1][item] * dicts[x2][item]\n",
    "    denom1 = np.sum(np.power(list(dicts[x1].values()), 2))\n",
    "    denom2 = np.sum(np.power(list(dicts[x2].values()), 2))\n",
    "    try:\n",
    "        return prod / sqrt(denom1 * denom2)\n",
    "    except ZeroDivisionError:\n",
    "        return 0"
   ]
  },
  {
   "cell_type": "code",
   "execution_count": 21,
   "metadata": {},
   "outputs": [
    {
     "data": {
      "text/plain": [
       "0.9766596404789609"
      ]
     },
     "execution_count": 21,
     "metadata": {},
     "output_type": "execute_result"
    }
   ],
   "source": [
    "cosine_similarity(data, 1, 100)"
   ]
  },
  {
   "cell_type": "code",
   "execution_count": 103,
   "metadata": {
    "collapsed": true
   },
   "outputs": [],
   "source": [
    "n = 20"
   ]
  },
  {
   "cell_type": "code",
   "execution_count": 98,
   "metadata": {
    "collapsed": true
   },
   "outputs": [],
   "source": [
    "def map_func(i):\n",
    "    user_ids = [user2id[user] for user in sorted_users[:n]]\n",
    "    return [cosine_similarity(data, i, other) for other in user_ids]"
   ]
  },
  {
   "cell_type": "code",
   "execution_count": 85,
   "metadata": {
    "collapsed": true
   },
   "outputs": [],
   "source": [
    "def get_sim(n, parallel=False, n_jobs=4):\n",
    "    if not parallel:\n",
    "        user_ids = [user2id[user] for user in sorted_users[:n]]\n",
    "        whole = np.array([[cosine_similarity(data, i, other) for other in user_ids] for i in user_ids])\n",
    "    else:\n",
    "        with Pool(processes=n_jobs) as p:\n",
    "            user_ids = [user2id[user] for user in sorted_users[:n]]\n",
    "            whole = p.map(map_func, user_ids)\n",
    "            whole = np.array(whole)\n",
    "    return whole"
   ]
  },
  {
   "cell_type": "code",
   "execution_count": 86,
   "metadata": {
    "collapsed": true
   },
   "outputs": [],
   "source": [
    "def get_sim2(n, parallel=False, n_jobs=4):\n",
    "    if not parallel:\n",
    "        sim = np.zeros((n, n))\n",
    "        user_ids = [user2id[user] for user in sorted_users[:n]]\n",
    "        for i in user_ids:\n",
    "            sim[i, i] = 1.0\n",
    "            for j in user_ids[i+1:]:\n",
    "                sim[i, j] = cosine_similarity(data, i, j)\n",
    "                sim[j, i] = sim[i, j]\n",
    "    else:\n",
    "        with Pool(processes=n_jobs) as p:\n",
    "            user_ids = [user2id[user] for user in sorted_users[:n]]\n",
    "            whole = p.map(map_func, user_ids)\n",
    "            whole = np.array(whole)\n",
    "    return sim"
   ]
  },
  {
   "cell_type": "code",
   "execution_count": 95,
   "metadata": {},
   "outputs": [
    {
     "name": "stdout",
     "output_type": "stream",
     "text": [
      "1 loop, best of 3: 1.13 s per loop\n"
     ]
    }
   ],
   "source": [
    "%timeit res = get_sim(n=200, parallel=False)"
   ]
  },
  {
   "cell_type": "code",
   "execution_count": 96,
   "metadata": {},
   "outputs": [
    {
     "name": "stdout",
     "output_type": "stream",
     "text": [
      "1 loop, best of 3: 545 ms per loop\n"
     ]
    }
   ],
   "source": [
    "%timeit sim = get_sim2(n=200, parallel=False)"
   ]
  },
  {
   "cell_type": "code",
   "execution_count": 83,
   "metadata": {},
   "outputs": [
    {
     "data": {
      "text/plain": [
       "(20, 20)"
      ]
     },
     "execution_count": 83,
     "metadata": {},
     "output_type": "execute_result"
    }
   ],
   "source": [
    "res = get_sim(n=20, parallel=False)\n",
    "res.shape"
   ]
  },
  {
   "cell_type": "code",
   "execution_count": 88,
   "metadata": {},
   "outputs": [
    {
     "data": {
      "text/plain": [
       "(20, 20)"
      ]
     },
     "execution_count": 88,
     "metadata": {},
     "output_type": "execute_result"
    }
   ],
   "source": [
    "sim = get_sim2(n=20, parallel=False)\n",
    "sim.shape"
   ]
  },
  {
   "cell_type": "code",
   "execution_count": 92,
   "metadata": {},
   "outputs": [
    {
     "data": {
      "text/plain": [
       "True"
      ]
     },
     "execution_count": 92,
     "metadata": {},
     "output_type": "execute_result"
    }
   ],
   "source": [
    "np.all(res == sim)"
   ]
  },
  {
   "cell_type": "code",
   "execution_count": null,
   "metadata": {
    "collapsed": true
   },
   "outputs": [],
   "source": []
  },
  {
   "cell_type": "code",
   "execution_count": null,
   "metadata": {
    "collapsed": true
   },
   "outputs": [],
   "source": []
  },
  {
   "cell_type": "code",
   "execution_count": 164,
   "metadata": {
    "collapsed": true
   },
   "outputs": [],
   "source": [
    "def recommend(user, n_neighbors, n_rec):\n",
    "    reco = {}\n",
    "    simSums = defaultdict(lambda : 0)\n",
    "    user_id = rawid2innerid[user]\n",
    "    neighbors_id = np.argsort(sim[user_id][::-1][1: n_neighbors + 1])\n",
    "    for neighbor_id in neighbors_id:\n",
    "        neighbor_raw = innerid2rawid[neighbor_id]\n",
    "        ssim = sim[user_id, neighbor_id]\n",
    "        for item in data[neighbor_raw]:\n",
    "            if item not in reco:\n",
    "                reco[item] = ssim * data[neighbor_raw][item]\n",
    "            else:\n",
    "                reco[item] += ssim * data[neighbor_raw][item]\n",
    "            simSums[item] += ssim\n",
    "#    rank = sorted(reco.items(), key=lambda x: x[1], reverse=True)[1: n_rec]\n",
    "    rank = [(item, rating / simSums[item]) for item, rating in reco.items()]\n",
    "    rank.sort(key=lambda x: x[1], reverse=True)\n",
    "    return rank[:n_rec]"
   ]
  },
  {
   "cell_type": "code",
   "execution_count": 167,
   "metadata": {
    "scrolled": true
   },
   "outputs": [
    {
     "data": {
      "text/plain": [
       "[('2431', 5.0),\n",
       " ('248', 5.0),\n",
       " ('2236', 5.0),\n",
       " ('2640', 5.0),\n",
       " ('918', 5.0),\n",
       " ('1023', 5.0),\n",
       " ('29', 5.0),\n",
       " ('1831', 5.0),\n",
       " ('1016', 5.0),\n",
       " ('916', 5.0)]"
      ]
     },
     "execution_count": 167,
     "metadata": {},
     "output_type": "execute_result"
    }
   ],
   "source": [
    "recommend(\"10\", 10, 10)"
   ]
  },
  {
   "cell_type": "code",
   "execution_count": null,
   "metadata": {
    "collapsed": true
   },
   "outputs": [],
   "source": []
  },
  {
   "cell_type": "code",
   "execution_count": null,
   "metadata": {
    "collapsed": true
   },
   "outputs": [],
   "source": []
  },
  {
   "cell_type": "code",
   "execution_count": null,
   "metadata": {
    "collapsed": true
   },
   "outputs": [],
   "source": []
  },
  {
   "cell_type": "code",
   "execution_count": null,
   "metadata": {
    "collapsed": true
   },
   "outputs": [],
   "source": []
  },
  {
   "cell_type": "code",
   "execution_count": null,
   "metadata": {
    "collapsed": true
   },
   "outputs": [],
   "source": []
  },
  {
   "cell_type": "code",
   "execution_count": null,
   "metadata": {
    "collapsed": true
   },
   "outputs": [],
   "source": []
  },
  {
   "cell_type": "code",
   "execution_count": null,
   "metadata": {
    "collapsed": true
   },
   "outputs": [],
   "source": []
  },
  {
   "cell_type": "code",
   "execution_count": null,
   "metadata": {
    "collapsed": true
   },
   "outputs": [],
   "source": []
  },
  {
   "cell_type": "code",
   "execution_count": null,
   "metadata": {
    "collapsed": true
   },
   "outputs": [],
   "source": []
  },
  {
   "cell_type": "code",
   "execution_count": null,
   "metadata": {
    "collapsed": true
   },
   "outputs": [],
   "source": []
  }
 ],
 "metadata": {
  "anaconda-cloud": {},
  "kernelspec": {
   "display_name": "Python 3",
   "language": "python",
   "name": "python3"
  },
  "language_info": {
   "codemirror_mode": {
    "name": "ipython",
    "version": 3
   },
   "file_extension": ".py",
   "mimetype": "text/x-python",
   "name": "python",
   "nbconvert_exporter": "python",
   "pygments_lexer": "ipython3",
   "version": "3.5.4"
  }
 },
 "nbformat": 4,
 "nbformat_minor": 2
}
