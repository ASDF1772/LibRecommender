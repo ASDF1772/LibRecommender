{
 "cells": [
  {
   "cell_type": "code",
   "execution_count": 1,
   "metadata": {
    "collapsed": true
   },
   "outputs": [],
   "source": [
    "import warnings\n",
    "warnings.filterwarnings(\"ignore\")\n",
    "from collections import defaultdict\n",
    "import time\n",
    "from multiprocessing import Pool\n",
    "import numpy as np\n",
    "import pandas as pd\n",
    "from math import sqrt\n",
    "import tensorflow as tf"
   ]
  },
  {
   "cell_type": "code",
   "execution_count": 2,
   "metadata": {
    "collapsed": true
   },
   "outputs": [],
   "source": [
    "np.random.seed(42)\n",
    "train_set = open(\"ml-1m/ratings.dat\").readlines()\n",
    "train_set = np.random.permutation(train_set)[:100000]\n",
    "train_threshold = int(0.75 * len(train_set))\n",
    "# train_indices = []\n",
    "# test_indices = []\n",
    "train_user_indices = []\n",
    "train_item_indices = []\n",
    "test_user_indices = []\n",
    "test_item_indices = []\n",
    "train_ratings = []\n",
    "test_ratings = []\n",
    "\n",
    "data = defaultdict(dict)\n",
    "user2id = {}\n",
    "item2id = {}\n",
    "index_user = 0\n",
    "index_item = 0\n",
    "\n",
    "for i, line in enumerate(train_set):\n",
    "    user = line.split(\"::\")[0]\n",
    "    item = line.split(\"::\")[1]\n",
    "    rating = line.split(\"::\")[2]\n",
    "    \n",
    "    try:\n",
    "        user_id = user2id[user]\n",
    "    except KeyError:\n",
    "        user_id = index_user\n",
    "        user2id[user] = index_user\n",
    "        index_user += 1\n",
    "    try:\n",
    "        item_id = item2id[item]\n",
    "    except KeyError:\n",
    "        item_id = index_item\n",
    "        item2id[item] = index_item\n",
    "        index_item += 1\n",
    "        \n",
    "    if i < train_threshold:\n",
    "    #    train_indices.append((user_id, item_id))\n",
    "        train_user_indices.append(user_id)\n",
    "        train_item_indices.append(item_id)\n",
    "        train_ratings.append(int(rating))\n",
    "        data[user_id].update(dict(zip([item_id], [int(rating)])))\n",
    "    else:\n",
    "    #    test_indices.append((user_id, item_id))\n",
    "        test_user_indices.append(user_id)\n",
    "        test_item_indices.append(item_id)\n",
    "        test_ratings.append(int(rating))"
   ]
  },
  {
   "cell_type": "code",
   "execution_count": 11,
   "metadata": {},
   "outputs": [
    {
     "data": {
      "text/plain": [
       "(75000, 24851)"
      ]
     },
     "execution_count": 11,
     "metadata": {},
     "output_type": "execute_result"
    }
   ],
   "source": [
    "len(train_ratings), len(test_ratings)"
   ]
  },
  {
   "cell_type": "code",
   "execution_count": null,
   "metadata": {
    "collapsed": true
   },
   "outputs": [],
   "source": [
    "print(\"before: \", len(train_ratings), len(test_ratings))\n",
    "\n",
    "for u, i, r in zip(test_user_indices, test_item_indices, test_ratings):\n",
    "    if u not in data:\n",
    "        test_user_indices.remove(u)\n",
    "        test_item_indices.remove(i)\n",
    "        test_ratings.remove(r)\n",
    "\n",
    "for u, i, r in zip(test_user_indices, test_item_indices, test_ratings):\n",
    "    if u not in data:\n",
    "        test_user_indices.remove(u)\n",
    "        test_item_indices.remove(i)\n",
    "        test_ratings.remove(r)\n",
    "\n",
    "for u, i, r in zip(test_user_indices, test_item_indices, test_ratings):\n",
    "    if u not in data:\n",
    "        test_user_indices.remove(u)\n",
    "        test_item_indices.remove(i)\n",
    "        test_ratings.remove(r)\n",
    "\n",
    "for u in test_user_indices:\n",
    "    if u not in data:\n",
    "        print(\"left\", u)\n",
    "\n",
    "print(\"after: \", len(train_ratings), len(test_ratings))"
   ]
  },
  {
   "cell_type": "code",
   "execution_count": 10,
   "metadata": {
    "collapsed": true
   },
   "outputs": [],
   "source": [
    "def ratings(dataset):\n",
    "    for user, r in dataset.items():\n",
    "        for item, rating in r.items():\n",
    "            yield user, item, rating"
   ]
  },
  {
   "cell_type": "markdown",
   "metadata": {
    "collapsed": true
   },
   "source": [
    "### compute baseline  -bbu & bbi "
   ]
  },
  {
   "cell_type": "code",
   "execution_count": 12,
   "metadata": {
    "collapsed": true
   },
   "outputs": [],
   "source": [
    "def compute_rmse(mode=\"train\"):\n",
    "    if mode == \"train\":\n",
    "        user_indices = train_user_indices\n",
    "        item_indices = train_item_indices\n",
    "        ratings = train_ratings\n",
    "    elif mode == \"test\":\n",
    "        user_indices = test_user_indices\n",
    "        item_indices = test_item_indices\n",
    "        ratings = test_ratings\n",
    "        \n",
    "    global_mean = np.mean(train_ratings)\n",
    "    pred = global_mean + bbu[user_indices] + bbi[item_indices] \n",
    "    score = np.sqrt(np.mean(np.power(pred - ratings, 2)))\n",
    "    return score"
   ]
  },
  {
   "cell_type": "code",
   "execution_count": 13,
   "metadata": {
    "collapsed": true
   },
   "outputs": [
    {
     "name": "stdout",
     "output_type": "stream",
     "text": [
      "Epoch:  1 \n",
      " [0. 0. 0.] [ 0.01270422  0.00449975 -0.00621123] \n",
      " training RMSE:  1.082633895818155 test RMSE:  1.1072706366391476\n",
      "Epoch:  6 \n",
      " [ 0.04795376  0.01812561 -0.02609946] [ 0.05458544  0.02079154 -0.02953371] \n",
      " training RMSE:  0.994043442247672 test RMSE:  1.1263636412036437\n",
      "Epoch:  11 \n",
      " [ 0.07648154  0.02975694 -0.0380893 ] [ 0.08106817  0.03169735 -0.03916873] \n",
      " training RMSE:  0.9561714049221693 test RMSE:  1.1451769040451114\n",
      "Epoch:  16 \n",
      " [ 0.09671783  0.0387131  -0.04045559] [ 0.10004352  0.04032698 -0.04017856] \n",
      " training RMSE:  0.9345015756204222 test RMSE:  1.159071352031592\n",
      "Epoch:  21 \n",
      " [ 0.11140197  0.0463996  -0.03741628] [ 0.11381112  0.04784068 -0.03640691] \n",
      " training RMSE:  0.9202352338958125 test RMSE:  1.1695170496530063\n",
      "Epoch:  26 \n",
      " [ 0.12201599  0.05337048 -0.03153351] [ 0.12375157  0.05470243 -0.03016219] \n",
      " training RMSE:  0.9100149969778989 test RMSE:  1.1776539732547588\n",
      "Epoch:  31 \n",
      " [ 0.12965354  0.05986203 -0.0243235 ] [ 0.13090114  0.06111383 -0.02280815] \n",
      " training RMSE:  0.902275890208469 test RMSE:  1.1842089948461192\n",
      "Epoch:  36 \n",
      " [ 0.13514721  0.06598619 -0.01667297] [ 0.13604662  0.06717279 -0.01513922] \n",
      " training RMSE:  0.8961841452872248 test RMSE:  1.189640445867838\n",
      "Epoch:  41 \n",
      " [ 0.13911923  0.07180378 -0.00908663] [ 0.13977365  0.07293413 -0.00760395] \n",
      " training RMSE:  0.8912507069680631 test RMSE:  1.1942442037992154\n",
      "Epoch:  46 \n",
      " [ 0.1420259   0.07735323 -0.00183704] [ 0.14251025  0.0784335  -0.00044094] \n",
      " training RMSE:  0.8871673706384485 test RMSE:  1.1982176957775736\n",
      "Epoch:  51 \n",
      " [0.14419704 0.0826622  0.00494306] [0.14456511 0.08369713 0.00623734] \n",
      " training RMSE:  0.8837289131854595 test RMSE:  1.2016972746194252\n",
      "Epoch:  56 \n",
      " [0.14586849 0.08775247 0.01120361] [0.1461585  0.08874592 0.01239258] \n",
      " training RMSE:  0.8807926481452946 test RMSE:  1.2047802436084232\n",
      "Epoch:  61 \n",
      " [0.14720723 0.0926421  0.01694189] [0.14744607 0.09359734 0.01802861] \n",
      " training RMSE:  0.8782558730707656 test RMSE:  1.207538139965685\n",
      "Epoch:  66 \n",
      " [0.14833033 0.09734648 0.02218092] [0.14853672 0.09826632 0.02317184] \n",
      " training RMSE:  0.8760425450774112 test RMSE:  1.2100249728449617\n",
      "Epoch:  71 \n",
      " [0.14931889 0.10187893 0.02695643] [0.1495057  0.10276584 0.02785946] \n",
      " training RMSE:  0.8740950227312451 test RMSE:  1.212282481493489\n",
      "Epoch:  76 \n",
      " [0.1502283  0.10625111 0.03130913] [0.15040421 0.10710724 0.03213259] \n",
      " training RMSE:  0.872368738787939 test RMSE:  1.21434358712093\n",
      "Epoch:  81 \n",
      " [0.15109562 0.11047329 0.03528033] [0.15126633 0.11130055 0.03603232] \n",
      " training RMSE:  0.8708286453558128 test RMSE:  1.2162347204048274\n",
      "Epoch:  86 \n",
      " [0.15194494 0.11455457 0.03890958] [0.15211409 0.11535465 0.03959767] \n",
      " training RMSE:  0.8694467724217363 test RMSE:  1.2179774307211495\n",
      "Epoch:  91 \n",
      " [0.15279129 0.11850305 0.04223345] [0.15296106 0.11927746 0.04286457] \n",
      " training RMSE:  0.8682005089993728 test RMSE:  1.2195895249646438\n",
      "Epoch:  96 \n",
      " [0.15364342 0.122326   0.04528514] [0.15381499 0.12307612 0.04586549] \n",
      " training RMSE:  0.8670713667625549 test RMSE:  1.221085890935016\n",
      "Epoch:  101 \n",
      " [0.1545058  0.12603    0.04809434] [0.15467968 0.12675705 0.04862947] \n",
      " training RMSE:  0.8660440738667601 test RMSE:  1.2224791044583936\n",
      "Epoch:  106 \n",
      " [0.15538002 0.12962097 0.05068748] [0.15555628 0.13032609 0.05118228] \n",
      " training RMSE:  0.8651058996663631 test RMSE:  1.2237798851229829\n",
      "Epoch:  111 \n",
      " [0.15626583 0.13310435 0.05308791] [0.15644428 0.13378856 0.05354673] \n",
      " training RMSE:  0.8642461439992001 test RMSE:  1.2249974439760547\n",
      "Epoch:  116 \n",
      " [0.15716186 0.1364851  0.05531625] [0.15734212 0.13714934 0.05574291] \n",
      " training RMSE:  0.8634557457674669 test RMSE:  1.2261397527250621\n",
      "Epoch:  121 \n",
      " [0.15806606 0.13976778 0.05739069] [0.15824767 0.14041293 0.05778855] \n",
      " training RMSE:  0.8627269793203777 test RMSE:  1.227213754957815\n",
      "Epoch:  126 \n",
      " [0.15897608 0.14295662 0.05932726] [0.15915857 0.14358348 0.0596993 ] \n",
      " training RMSE:  0.8620532163506847 test RMSE:  1.228225533879721\n",
      "Epoch:  131 \n",
      " [0.1598895  0.14605553 0.0611401 ] [0.16007238 0.14666485 0.06148895] \n",
      " training RMSE:  0.8614287372881241 test RMSE:  1.2291804469831527\n",
      "Epoch:  136 \n",
      " [0.16080393 0.14906816 0.0628417 ] [0.16098674 0.14966063 0.06316967] \n",
      " training RMSE:  0.8608485805178657 test RMSE:  1.2300832352459428\n",
      "Epoch:  141 \n",
      " [0.16171715 0.1519979  0.06444311] [0.16189947 0.15257419 0.06475224] \n",
      " training RMSE:  0.860308420809463 test RMSE:  1.2309381124795111\n",
      "Epoch:  146 \n",
      " [0.16262712 0.15484795 0.06595408] [0.16280856 0.15540866 0.0662462 ] \n",
      " training RMSE:  0.8598044705236507 test RMSE:  1.2317488390398408\n",
      "Epoch:  151 \n",
      " [0.16353203 0.1576213  0.06738328] [0.16371226 0.15816701 0.06766   ] \n",
      " training RMSE:  0.8593333987414586 test RMSE:  1.2325187830982591\n",
      "Epoch:  156 \n",
      " [0.16443029 0.16032076 0.06873839] [0.16460902 0.16085203 0.06900114] \n",
      " training RMSE:  0.8588922646137078 test RMSE:  1.2332509719253146\n",
      "Epoch:  161 \n",
      " [0.16532053 0.16294901 0.07002625] [0.16549752 0.16346633 0.0702763 ] \n",
      " training RMSE:  0.8584784620820233 test RMSE:  1.2339481350900845\n",
      "Epoch:  166 \n",
      " [0.16620162 0.16550854 0.07125292] [0.16637665 0.16601242 0.0714914 ] \n",
      " training RMSE:  0.8580896737598203 test RMSE:  1.2346127410643308\n",
      "Epoch:  171 \n",
      " [0.16707257 0.16800176 0.07242382] [0.16724548 0.16849264 0.07265174] \n",
      " training RMSE:  0.8577238322423728 test RMSE:  1.2352470284081087\n",
      "Epoch:  176 \n",
      " [0.16793262 0.17043091 0.07354378] [0.16810326 0.17090925 0.07376204] \n",
      " training RMSE:  0.8573790874808626 test RMSE:  1.2358530324740498\n",
      "Epoch:  181 \n",
      " [0.16878112 0.17279816 0.0746171 ] [0.16894939 0.17326436 0.07482651] \n",
      " training RMSE:  0.8570537791359903 test RMSE:  1.2364326083826445\n",
      "Epoch:  186 \n",
      " [0.16961759 0.17510555 0.07564763] [0.1697834  0.17556002 0.07584891] \n",
      " training RMSE:  0.8567464130438442 test RMSE:  1.2369874508767744\n",
      "Epoch:  191 \n",
      " [0.17044165 0.17735504 0.07663883] [0.17060495 0.17779815 0.07683262] \n",
      " training RMSE:  0.8564556410959092 test RMSE:  1.237519111550549\n",
      "Epoch:  196 \n",
      " [0.17125304 0.17954848 0.07759377] [0.17141378 0.1799806  0.07778066] \n",
      " training RMSE:  0.8561802439678807 test RMSE:  1.2380290138579098\n"
     ]
    }
   ],
   "source": [
    "np.random.seed(42)\n",
    "n_users = len(user2id)\n",
    "n_items = len(item2id)\n",
    "global_mean = np.mean(train_ratings)\n",
    "n_epochs = 200\n",
    "lr = 0.002\n",
    "reg = 0.1\n",
    "bbu = np.zeros((n_users,))\n",
    "bbi = np.zeros((n_items,))\n",
    "for epoch in range(n_epochs):\n",
    "    for u, i, r in ratings(data):\n",
    "        before = bbu.copy()\n",
    "        err = r - (global_mean + bbu[u] + bbi[i])\n",
    "        bbu[u] += lr * (err - reg * bbu[u])\n",
    "        bbi[i] += lr * (err - reg * bbi[i])\n",
    "    if epoch % 5 == 0:\n",
    "        print(\"Epoch: \", epoch + 1, \"training RMSE: \", compute_rmse(\"train\"), \"test RMSE: \", compute_rmse(\"test\"))\n",
    "        if np.allclose(before, bbu, atol=1e-3):\n",
    "            print(\"\\n Converged !\")\n",
    "            break"
   ]
  },
  {
   "cell_type": "markdown",
   "metadata": {
    "collapsed": true
   },
   "source": [
    "### neighborhood model"
   ]
  },
  {
   "cell_type": "code",
   "execution_count": 22,
   "metadata": {
    "collapsed": true
   },
   "outputs": [],
   "source": [
    "def compute_rmse_neighbor2(mode=\"train\"):\n",
    "    if mode == \"train\":\n",
    "        user_indices = train_user_indices\n",
    "        item_indices = train_item_indices\n",
    "        ratings = train_ratings\n",
    "    elif mode == \"test\":\n",
    "        user_indices = test_user_indices\n",
    "        item_indices = test_item_indices\n",
    "        ratings = test_ratings\n",
    "        \n",
    "    global_mean = np.mean(train_ratings)\n",
    "    score = 0\n",
    "    for u, i, r in zip(user_indices, item_indices, ratings):\n",
    "        ru = np.sum([(data[u][j] - (global_mean + bbu[u] + bbi[j])) * w[i][j] for j in data[u]]) / np.sqrt(len(data[u]))\n",
    "        nu = np.sum(c[i][j] for j in data[u]) / np.sqrt(len(data[u]))\n",
    "        pred = global_mean + bu[u] + bi[i] + ru + nu\n",
    "        score += np.power(r - pred, 2)\n",
    "        \n",
    "    return np.sqrt(score / len(user_indices))"
   ]
  },
  {
   "cell_type": "code",
   "execution_count": 9,
   "metadata": {
    "collapsed": true
   },
   "outputs": [],
   "source": [
    "def compute_rmse_neighbor(mode=\"train\"):\n",
    "    if mode == \"train\":\n",
    "        user_indices = train_user_indices\n",
    "        item_indices = train_item_indices\n",
    "        ratings = train_ratings\n",
    "    elif mode == \"test\":\n",
    "        user_indices = test_user_indices\n",
    "        item_indices = test_item_indices\n",
    "        ratings = test_ratings\n",
    "        \n",
    "    global_mean = np.mean(train_ratings)\n",
    "    score = 0\n",
    "    pred_whole = []\n",
    "    for u, i, r in zip(user_indices, item_indices, ratings):\n",
    "        u_items = list(data[u].keys())\n",
    "        u_ratings = np.array(list(data[u].values()))\n",
    "        base_neighbor = global_mean + bbu[u] + bbi[u_items]\n",
    "        ru = np.sum((u_ratings - base_neighbor) * w[i][u_items]) / np.sqrt(len(u_items))\n",
    "        nu = np.sum(c[i][u_items]) / np.sqrt(len(u_items))\n",
    "        pred = global_mean + bu[u] + bi[i] + ru + nu\n",
    "        pred_whole.append(pred)\n",
    "    return np.sqrt(np.mean(np.power(pred_whole - np.array(ratings), 2)))"
   ]
  },
  {
   "cell_type": "code",
   "execution_count": null,
   "metadata": {
    "collapsed": true
   },
   "outputs": [
    {
     "name": "stdout",
     "output_type": "stream",
     "text": [
      "Epoch:  1 \ttime:  187.67700004577637\n",
      "Epoch:  1 \ttraining RMSE:  1.5707351584800056 \ttest RMSE:  1.5892486851216328\n",
      "Epoch:  2 \ttime:  182.19700002670288\n",
      "Epoch:  2 \ttraining RMSE:  1.5124462521222735 \ttest RMSE:  1.5422257806994302\n",
      "Epoch:  3 \ttime:  188.18200016021729\n",
      "Epoch:  3 \ttraining RMSE:  1.4717891146854394 \ttest RMSE:  1.5105524429685973\n",
      "Epoch:  4 \ttime:  183.32200002670288\n",
      "Epoch:  4 \ttraining RMSE:  1.4384903137461458 \ttest RMSE:  1.484972240071947\n",
      "Epoch:  5 \ttime:  183.36899995803833\n",
      "Epoch:  5 \ttraining RMSE:  1.4095409181830287 \ttest RMSE:  1.462886534267612\n",
      "Epoch:  6 \ttime:  183.37600016593933\n",
      "Epoch:  6 \ttraining RMSE:  1.3836254339147265 \ttest RMSE:  1.4431975553409213\n",
      "Epoch:  7 \ttime:  183.22199988365173\n",
      "Epoch:  7 \ttraining RMSE:  1.3600257865302288 \ttest RMSE:  1.4253223979343055\n",
      "Epoch:  8 \ttime:  186.3880000114441\n",
      "Epoch:  8 \ttraining RMSE:  1.3382923758738394 \ttest RMSE:  1.4089037340413537\n",
      "Epoch:  9 \ttime:  184.489000082016\n",
      "Epoch:  9 \ttraining RMSE:  1.3181169312252223 \ttest RMSE:  1.3937001212329527\n",
      "Epoch:  10 \ttime:  180.95899987220764\n",
      "Epoch:  10 \ttraining RMSE:  1.2992742731832767 \ttest RMSE:  1.3795367262273952\n",
      "Epoch:  11 \ttime:  183.15100002288818\n",
      "Epoch:  11 \ttraining RMSE:  1.2815922015992607 \ttest RMSE:  1.3662803761922233\n",
      "Epoch:  12 \ttime:  183.31100010871887\n",
      "Epoch:  12 \ttraining RMSE:  1.2649344467667554 \ttest RMSE:  1.3538257372864126\n",
      "Epoch:  13 \ttime:  182.70600008964539\n",
      "Epoch:  13 \ttraining RMSE:  1.2491903088659593 \ttest RMSE:  1.3420870887195817\n",
      "Epoch:  14 \ttime:  190.14600014686584\n",
      "Epoch:  14 \ttraining RMSE:  1.234267993884392 \ttest RMSE:  1.3309931281964573\n",
      "Epoch:  15 \ttime:  187.72699999809265\n",
      "Epoch:  15 \ttraining RMSE:  1.2200901233255672 \ttest RMSE:  1.320483523679553\n",
      "Epoch:  16 \ttime:  182.90199995040894\n",
      "Epoch:  16 \ttraining RMSE:  1.2065905899245908 \ttest RMSE:  1.3105065253226427\n",
      "Epoch:  17 \ttime:  185.45499992370605\n",
      "Epoch:  17 \ttraining RMSE:  1.1937122838842638 \ttest RMSE:  1.3010172510565763\n",
      "Epoch:  18 \ttime:  185.19000005722046\n",
      "Epoch:  18 \ttraining RMSE:  1.181405403386585 \ttest RMSE:  1.291976417690626\n",
      "Epoch:  19 \ttime:  189.47399997711182\n",
      "Epoch:  19 \ttraining RMSE:  1.169626169940262 \ttest RMSE:  1.2833493771810496\n",
      "Epoch:  20 \ttime:  185.49200010299683\n",
      "Epoch:  20 \ttraining RMSE:  1.158335832052728 \ttest RMSE:  1.275105368463388\n",
      "Epoch:  21 \ttime:  188.2630000114441\n",
      "Epoch:  21 \ttraining RMSE:  1.1474998792135587 \ttest RMSE:  1.2672169257088526\n"
     ]
    }
   ],
   "source": [
    "np.random.seed(42)\n",
    "n_factors = 100\n",
    "n_users = len(user2id)\n",
    "n_items = len(item2id)\n",
    "global_mean = np.mean(train_ratings)\n",
    "n_epochs = 200\n",
    "lr = 0.002\n",
    "reg = 0.1\n",
    "\n",
    "bu = np.zeros((n_users,))\n",
    "bi = np.zeros((n_items,))\n",
    "w = np.random.normal(size=(n_items, n_items))\n",
    "c = np.random.normal(size=(n_items, n_items))\n",
    "\n",
    "for epoch in range(n_epochs):\n",
    "    t0 = time.time()\n",
    "    for u, i, r in ratings(data):\n",
    "        u_items = list(data[u].keys())\n",
    "        u_ratings = np.array(list(data[u].values()))\n",
    "        base_neighbor = global_mean + bbu[u] + bbi[u_items]\n",
    "        ru = np.sum((u_ratings - base_neighbor) * w[i][u_items]) / np.sqrt(len(u_items))\n",
    "        nu = np.sum(c[i][u_items]) / np.sqrt(len(u_items))\n",
    "        err = r - (global_mean + bu[u] + bi[i] + ru + nu)\n",
    "        \n",
    "        bu[u] += lr * (err - reg * bu[u])\n",
    "        bi[i] += lr * (err - reg * bi[i])\n",
    "        w[i][u_items] += lr * (err * (u_ratings - base_neighbor) / np.sqrt(len(u_items)) - reg * w[i][u_items])\n",
    "        c[i][u_items] += lr * (err / np.sqrt(len(u_items)) - reg * c[i][u_items])\n",
    "        \n",
    "    print(\"Epoch: \", epoch + 1, \"\\ttime: \", time.time() - t0)\n",
    "    \n",
    "    if epoch % 1 == 0:\n",
    "        t1 = time.time()\n",
    "        print(\"Epoch: \", epoch + 1, \"\\ttraining RMSE: \", compute_rmse_neighbor(\"train\"), \n",
    "              \"\\ttest RMSE: \", compute_rmse_neighbor(\"test\"))\n",
    "        print(\"evaluate time: \", time.time() - t1)"
   ]
  },
  {
   "cell_type": "markdown",
   "metadata": {
    "collapsed": true
   },
   "source": [
    "### neighborhood model k"
   ]
  },
  {
   "cell_type": "code",
   "execution_count": 14,
   "metadata": {
    "collapsed": true
   },
   "outputs": [],
   "source": [
    "def cosine_similarity(dicts, x1, x2):  # only common ratings\n",
    "    prod = denom1 = denom2 = 0\n",
    "    for item in dicts[x1]:\n",
    "        if item in dicts[x2]:\n",
    "            prod += dicts[x1][item] * dicts[x2][item]\n",
    "            denom1 += dicts[x1][item] ** 2\n",
    "            denom2 += dicts[x2][item] ** 2\n",
    "    try:\n",
    "        return prod / sqrt(denom1 * denom2)\n",
    "    except ZeroDivisionError:\n",
    "        return 0"
   ]
  },
  {
   "cell_type": "code",
   "execution_count": 15,
   "metadata": {
    "collapsed": true
   },
   "outputs": [],
   "source": [
    "def map_func(i):\n",
    "    return [cosine_similarity(data, i, other) for other in item_idsss]\n",
    "\n",
    "\n",
    "def get_sim(n, item_ids, parallel=False, symmetric=True, n_jobs=4):\n",
    "    if not parallel and not symmetric:\n",
    "        print(\"not symmetric\")\n",
    "        sim = np.array([[cosine_similarity(data, i, other) for other in item_ids] for i in item_ids])\n",
    "    if not parallel and symmetric:\n",
    "        print(\"symetric\")\n",
    "        sim = np.zeros((n, n))\n",
    "        for i in item_ids:   ################# item_ids\n",
    "            sim[i, i] = 1.0\n",
    "            for j in item_ids[i + 1:]:\n",
    "                sim[i, j] = cosine_similarity(data, i, j)\n",
    "                sim[j, i] = sim[i, j]\n",
    "    if parallel:\n",
    "        print(\"multiprocessing\")\n",
    "        with Pool(processes=n_jobs) as p:\n",
    "            sim = p.map(map_func, item_ids)\n",
    "            sim = np.array(sim)\n",
    "    return sim"
   ]
  },
  {
   "cell_type": "code",
   "execution_count": 16,
   "metadata": {},
   "outputs": [
    {
     "name": "stdout",
     "output_type": "stream",
     "text": [
      "symetric\n",
      "CPU times: user 23.1 s, sys: 55.9 ms, total: 23.2 s\n",
      "Wall time: 23.3 s\n"
     ]
    }
   ],
   "source": [
    "item_idsss = list(item2id.values())   # 排除 test data\n",
    "n_items = len(item2id)\n",
    "%time sim_matrix = get_sim(n_items, item_idsss)"
   ]
  },
  {
   "cell_type": "code",
   "execution_count": 17,
   "metadata": {},
   "outputs": [
    {
     "data": {
      "text/plain": [
       "(3294, 3294)"
      ]
     },
     "execution_count": 17,
     "metadata": {},
     "output_type": "execute_result"
    }
   ],
   "source": [
    "sim_matrix.shape"
   ]
  },
  {
   "cell_type": "code",
   "execution_count": 18,
   "metadata": {
    "collapsed": true
   },
   "outputs": [],
   "source": [
    "sim_whole = {}\n",
    "for i in range(n_items):\n",
    "    sim_whole[i] = np.argsort(sim_matrix[i])[::-1]"
   ]
  },
  {
   "cell_type": "code",
   "execution_count": 19,
   "metadata": {},
   "outputs": [
    {
     "name": "stdout",
     "output_type": "stream",
     "text": [
      "CPU times: user 1.76 s, sys: 40 ms, total: 1.8 s\n",
      "Wall time: 1.8 s\n"
     ]
    }
   ],
   "source": [
    "%%time\n",
    "k = 20\n",
    "intersect_user_item = {}\n",
    "for user, item, _ in ratings(data):\n",
    "    u_items = list(data[user].keys())\n",
    "    sim_items = sim_whole[item][:k]\n",
    "    intersect_items, index_u, _ = np.intersect1d(\n",
    "        u_items, sim_items, assume_unique=True, return_indices=True)\n",
    "    intersect_user_item[(user, item)] = (intersect_items, index_u)"
   ]
  },
  {
   "cell_type": "code",
   "execution_count": 22,
   "metadata": {
    "collapsed": true
   },
   "outputs": [],
   "source": [
    "intersect_user_item_test = {}\n",
    "for user, item in zip(test_user_indices, test_item_indices):\n",
    "    u_items = list(data[user].keys())\n",
    "    sim_items = sim_whole[item][:k]\n",
    "    intersect_items, index_u, _ = np.intersect1d(u_items, sim_items, assume_unique=True, return_indices=True)\n",
    "    intersect_user_item_test[(user, item)] = (intersect_items, index_u)"
   ]
  },
  {
   "cell_type": "code",
   "execution_count": null,
   "metadata": {
    "collapsed": true
   },
   "outputs": [],
   "source": []
  },
  {
   "cell_type": "code",
   "execution_count": 19,
   "metadata": {
    "collapsed": true
   },
   "outputs": [],
   "source": [
    "def compute_rmse_neighbor_k(k, mode=\"train\"):\n",
    "    if mode == \"train\":\n",
    "        user_indices = train_user_indices\n",
    "        item_indices = train_item_indices\n",
    "        ratings = train_ratings\n",
    "        intersect = intersect_user_item\n",
    "    elif mode == \"test\":\n",
    "        user_indices = test_user_indices\n",
    "        item_indices = test_item_indices\n",
    "        ratings = test_ratings\n",
    "        intersect = intersect_user_item_test\n",
    "        \n",
    "    global_mean = np.mean(train_ratings)\n",
    "    pred_whole = []\n",
    "    for u, i, r in zip(user_indices, item_indices, ratings):\n",
    "        intersect_items, index_u = intersect[(u, i)]\n",
    "        \n",
    "        if len(intersect_items) == 0:\n",
    "            pred = global_mean + bu[u] + bi[i]\n",
    "        else:\n",
    "            u_ratings = np.array(list(data[u].values()))[index_u]\n",
    "            base_neighbor = global_mean + bbu[u] + bbi[intersect_items]\n",
    "            user_sqrt = np.sqrt(len(intersect_items))\n",
    "            ru = np.sum((u_ratings - base_neighbor) * w[i][intersect_items]) / user_sqrt\n",
    "            nu = np.sum(c[i][intersect_items]) / user_sqrt\n",
    "            pred = global_mean + bu[u] + bi[i] + ru + nu\n",
    "        pred_whole.append(pred)\n",
    "        \n",
    "    if mode == \"test\":\n",
    "        print(\"pred: \", pred_whole[:10])\n",
    "\n",
    "    score = np.sqrt(np.mean(np.power(np.array(pred_whole) - np.array(ratings), 2)))\n",
    "    return score"
   ]
  },
  {
   "cell_type": "code",
   "execution_count": 30,
   "metadata": {
    "collapsed": true
   },
   "outputs": [
    {
     "name": "stdout",
     "output_type": "stream",
     "text": [
      "Epoch:  1 \ttime:  44.69567847251892\n",
      "Epoch:  1 \ttraining RMSE:  1.2458042553334014 \ttest RMSE:  1.3722556840047824\n",
      "evaluate time:  44.410773277282715\n",
      "Epoch:  2 \ttime:  44.42795276641846\n",
      "Epoch:  2 \ttraining RMSE:  1.136692451432997 \ttest RMSE:  1.3093769475704733\n",
      "evaluate time:  46.26808190345764\n",
      "Epoch:  3 \ttime:  44.11362338066101\n",
      "Epoch:  3 \ttraining RMSE:  1.0742567200185442 \ttest RMSE:  1.2669935862011854\n",
      "evaluate time:  44.48421502113342\n",
      "Epoch:  4 \ttime:  43.84966540336609\n",
      "Epoch:  4 \ttraining RMSE:  1.030746873151682 \ttest RMSE:  1.2349643020989318\n",
      "evaluate time:  45.2990300655365\n",
      "Epoch:  5 \ttime:  43.515668869018555\n",
      "Epoch:  5 \ttraining RMSE:  0.9975546886559868 \ttest RMSE:  1.209428710447678\n",
      "evaluate time:  45.63119339942932\n",
      "Epoch:  6 \ttime:  43.80353546142578\n",
      "Epoch:  6 \ttraining RMSE:  0.970898049824173 \ttest RMSE:  1.1883870111829498\n",
      "evaluate time:  45.02794551849365\n",
      "Epoch:  7 \ttime:  44.86887574195862\n",
      "Epoch:  7 \ttraining RMSE:  0.9487640311135215 \ttest RMSE:  1.170641436514945\n",
      "evaluate time:  44.5344660282135\n",
      "Epoch:  8 \ttime:  43.805259704589844\n",
      "Epoch:  8 \ttraining RMSE:  0.929947385597007 \ttest RMSE:  1.1554118397413797\n",
      "evaluate time:  45.2269344329834\n",
      "Epoch:  9 \ttime:  44.193142890930176\n",
      "Epoch:  9 \ttraining RMSE:  0.9136666883580802 \ttest RMSE:  1.1421604910781056\n",
      "evaluate time:  45.248892068862915\n",
      "Epoch:  10 \ttime:  43.97360920906067\n",
      "Epoch:  10 \ttraining RMSE:  0.8993852763763026 \ttest RMSE:  1.1305008715479095\n",
      "evaluate time:  44.91611361503601\n",
      "Epoch:  11 \ttime:  43.42970323562622\n",
      "Epoch:  11 \ttraining RMSE:  0.8867181828408018 \ttest RMSE:  1.1201459183388789\n",
      "evaluate time:  45.41343808174133\n",
      "Epoch:  12 \ttime:  44.22804641723633\n",
      "Epoch:  12 \ttraining RMSE:  0.8753797170035118 \ttest RMSE:  1.1108767651367175\n",
      "evaluate time:  47.89758348464966\n",
      "Epoch:  13 \ttime:  43.78227472305298\n",
      "Epoch:  13 \ttraining RMSE:  0.8651520219266938 \ttest RMSE:  1.1025229137575487\n",
      "evaluate time:  45.85090661048889\n",
      "Epoch:  14 \ttime:  44.875792503356934\n",
      "Epoch:  14 \ttraining RMSE:  0.8558652344130395 \ttest RMSE:  1.0949491409646719\n",
      "evaluate time:  45.01641893386841\n",
      "Epoch:  15 \ttime:  44.10824465751648\n",
      "Epoch:  15 \ttraining RMSE:  0.8473844340224503 \ttest RMSE:  1.0880465562737527\n",
      "evaluate time:  42.67228055000305\n",
      "Epoch:  16 \ttime:  39.2338662147522\n",
      "Epoch:  16 \ttraining RMSE:  0.8396007559302867 \ttest RMSE:  1.0817263178028167\n",
      "evaluate time:  39.44333839416504\n",
      "Epoch:  17 \ttime:  38.25743865966797\n",
      "Epoch:  17 \ttraining RMSE:  0.8324251608000613 \ttest RMSE:  1.0759151072513033\n",
      "evaluate time:  39.20102095603943\n",
      "Epoch:  18 \ttime:  38.715551137924194\n",
      "Epoch:  18 \ttraining RMSE:  0.8257839582714099 \ttest RMSE:  1.0705518028631633\n",
      "evaluate time:  39.626906871795654\n",
      "Epoch:  19 \ttime:  38.55104064941406\n",
      "Epoch:  19 \ttraining RMSE:  0.8196155217117362 \ttest RMSE:  1.0655849887401547\n",
      "evaluate time:  39.250303745269775\n",
      "Epoch:  20 \ttime:  38.36221241950989\n",
      "Epoch:  20 \ttraining RMSE:  0.8138678326018481 \ttest RMSE:  1.0609710607836198\n",
      "evaluate time:  39.98538064956665\n",
      "Epoch:  21 \ttime:  38.68729853630066\n",
      "Epoch:  21 \ttraining RMSE:  0.8084966153251038 \ttest RMSE:  1.0566727663483984\n",
      "evaluate time:  39.88436841964722\n",
      "Epoch:  22 \ttime:  38.62866020202637\n",
      "Epoch:  22 \ttraining RMSE:  0.8034639001353645 \ttest RMSE:  1.0526580644299106\n",
      "evaluate time:  39.08464169502258\n",
      "Epoch:  23 \ttime:  38.178163051605225\n",
      "Epoch:  23 \ttraining RMSE:  0.7987369018822735 \ttest RMSE:  1.0488992262181713\n",
      "evaluate time:  39.755072593688965\n",
      "Epoch:  24 \ttime:  38.13891887664795\n",
      "Epoch:  24 \ttraining RMSE:  0.7942871350738715 \ttest RMSE:  1.0453721182547757\n",
      "evaluate time:  39.80039095878601\n",
      "Epoch:  25 \ttime:  38.21834135055542\n",
      "Epoch:  25 \ttraining RMSE:  0.7900897082047802 \ttest RMSE:  1.0420556259321452\n",
      "evaluate time:  40.741600036621094\n",
      "Epoch:  26 \ttime:  38.67787790298462\n",
      "Epoch:  26 \ttraining RMSE:  0.7861227557066718 \ttest RMSE:  1.0389311859959318\n",
      "evaluate time:  39.009342193603516\n",
      "Epoch:  27 \ttime:  39.03727984428406\n",
      "Epoch:  27 \ttraining RMSE:  0.7823669767135635 \ttest RMSE:  1.0359824045241417\n",
      "evaluate time:  40.17900824546814\n",
      "Epoch:  28 \ttime:  39.31616950035095\n",
      "Epoch:  28 \ttraining RMSE:  0.778805257564665 \ttest RMSE:  1.0331947425266186\n",
      "evaluate time:  39.61187386512756\n",
      "Epoch:  29 \ttime:  38.817803621292114\n",
      "Epoch:  29 \ttraining RMSE:  0.7754223605601107 \ttest RMSE:  1.0305552554761312\n",
      "evaluate time:  39.26454496383667\n",
      "Epoch:  30 \ttime:  39.115562438964844\n",
      "Epoch:  30 \ttraining RMSE:  0.7722046655835406 \ttest RMSE:  1.0280523761779263\n",
      "evaluate time:  39.920701026916504\n",
      "Epoch:  31 \ttime:  39.660584926605225\n",
      "Epoch:  31 \ttraining RMSE:  0.7691399542432422 \ttest RMSE:  1.0256757327133719\n",
      "evaluate time:  39.91523838043213\n",
      "Epoch:  32 \ttime:  38.762558460235596\n",
      "Epoch:  32 \ttraining RMSE:  0.7662172284611101 \ttest RMSE:  1.0234159949556831\n",
      "evaluate time:  39.561240434646606\n",
      "Epoch:  33 \ttime:  38.519752740859985\n",
      "Epoch:  33 \ttraining RMSE:  0.7634265571626493 \ttest RMSE:  1.0212647445071525\n",
      "evaluate time:  39.9990074634552\n",
      "Epoch:  34 \ttime:  38.10247564315796\n",
      "Epoch:  34 \ttraining RMSE:  0.7607589460376409 \ttest RMSE:  1.019214363947708\n",
      "evaluate time:  39.194270610809326\n",
      "Epoch:  35 \ttime:  38.828150510787964\n",
      "Epoch:  35 \ttraining RMSE:  0.758206226356202 \ttest RMSE:  1.0172579420945675\n",
      "evaluate time:  39.52248668670654\n",
      "Epoch:  36 \ttime:  38.76228857040405\n",
      "Epoch:  36 \ttraining RMSE:  0.7557609596126237 \ttest RMSE:  1.0153891926060885\n",
      "evaluate time:  39.634538650512695\n",
      "Epoch:  37 \ttime:  38.83381938934326\n"
     ]
    },
    {
     "ename": "KeyboardInterrupt",
     "evalue": "",
     "output_type": "error",
     "traceback": [
      "\u001b[0;31m---------------------------------------------------------------------------\u001b[0m",
      "\u001b[0;31mKeyboardInterrupt\u001b[0m                         Traceback (most recent call last)",
      "\u001b[0;32m<ipython-input-30-5457d43a648e>\u001b[0m in \u001b[0;36m<module>\u001b[0;34m\u001b[0m\n\u001b[1;32m     40\u001b[0m     \u001b[0;32mif\u001b[0m \u001b[0mepoch\u001b[0m \u001b[0;34m%\u001b[0m \u001b[0;36m1\u001b[0m \u001b[0;34m==\u001b[0m \u001b[0;36m0\u001b[0m\u001b[0;34m:\u001b[0m\u001b[0;34m\u001b[0m\u001b[0m\n\u001b[1;32m     41\u001b[0m         \u001b[0mt1\u001b[0m \u001b[0;34m=\u001b[0m \u001b[0mtime\u001b[0m\u001b[0;34m.\u001b[0m\u001b[0mtime\u001b[0m\u001b[0;34m(\u001b[0m\u001b[0;34m)\u001b[0m\u001b[0;34m\u001b[0m\u001b[0m\n\u001b[0;32m---> 42\u001b[0;31m         print(\"Epoch: \", epoch + 1, \"\\ttraining RMSE: \", compute_rmse_neighbor_k(k, \"train\"), \n\u001b[0m\u001b[1;32m     43\u001b[0m               \"\\ttest RMSE: \", compute_rmse_neighbor_k(k, \"test\"))\n\u001b[1;32m     44\u001b[0m         \u001b[0mprint\u001b[0m\u001b[0;34m(\u001b[0m\u001b[0;34m\"evaluate time: \"\u001b[0m\u001b[0;34m,\u001b[0m \u001b[0mtime\u001b[0m\u001b[0;34m.\u001b[0m\u001b[0mtime\u001b[0m\u001b[0;34m(\u001b[0m\u001b[0;34m)\u001b[0m \u001b[0;34m-\u001b[0m \u001b[0mt1\u001b[0m\u001b[0;34m)\u001b[0m\u001b[0;34m\u001b[0m\u001b[0m\n",
      "\u001b[0;32m<ipython-input-29-6f15ca5b8cba>\u001b[0m in \u001b[0;36mcompute_rmse_neighbor_k\u001b[0;34m(k, mode)\u001b[0m\n\u001b[1;32m     22\u001b[0m             \u001b[0mbase_neighbor\u001b[0m \u001b[0;34m=\u001b[0m \u001b[0mglobal_mean\u001b[0m \u001b[0;34m+\u001b[0m \u001b[0mbbu\u001b[0m\u001b[0;34m[\u001b[0m\u001b[0mu\u001b[0m\u001b[0;34m]\u001b[0m \u001b[0;34m+\u001b[0m \u001b[0mbbi\u001b[0m\u001b[0;34m[\u001b[0m\u001b[0mintersect_items\u001b[0m\u001b[0;34m]\u001b[0m\u001b[0;34m\u001b[0m\u001b[0m\n\u001b[1;32m     23\u001b[0m             \u001b[0muser_sqrt\u001b[0m \u001b[0;34m=\u001b[0m \u001b[0mnp\u001b[0m\u001b[0;34m.\u001b[0m\u001b[0msqrt\u001b[0m\u001b[0;34m(\u001b[0m\u001b[0mlen\u001b[0m\u001b[0;34m(\u001b[0m\u001b[0mintersect_items\u001b[0m\u001b[0;34m)\u001b[0m\u001b[0;34m)\u001b[0m\u001b[0;34m\u001b[0m\u001b[0m\n\u001b[0;32m---> 24\u001b[0;31m             \u001b[0mru\u001b[0m \u001b[0;34m=\u001b[0m \u001b[0mnp\u001b[0m\u001b[0;34m.\u001b[0m\u001b[0msum\u001b[0m\u001b[0;34m(\u001b[0m\u001b[0;34m(\u001b[0m\u001b[0mu_ratings\u001b[0m \u001b[0;34m-\u001b[0m \u001b[0mbase_neighbor\u001b[0m\u001b[0;34m)\u001b[0m \u001b[0;34m*\u001b[0m \u001b[0mw\u001b[0m\u001b[0;34m[\u001b[0m\u001b[0mi\u001b[0m\u001b[0;34m]\u001b[0m\u001b[0;34m[\u001b[0m\u001b[0mintersect_items\u001b[0m\u001b[0;34m]\u001b[0m\u001b[0;34m)\u001b[0m \u001b[0;34m/\u001b[0m \u001b[0muser_sqrt\u001b[0m\u001b[0;34m\u001b[0m\u001b[0m\n\u001b[0m\u001b[1;32m     25\u001b[0m             \u001b[0mnu\u001b[0m \u001b[0;34m=\u001b[0m \u001b[0mnp\u001b[0m\u001b[0;34m.\u001b[0m\u001b[0msum\u001b[0m\u001b[0;34m(\u001b[0m\u001b[0mc\u001b[0m\u001b[0;34m[\u001b[0m\u001b[0mi\u001b[0m\u001b[0;34m]\u001b[0m\u001b[0;34m[\u001b[0m\u001b[0mintersect_items\u001b[0m\u001b[0;34m]\u001b[0m\u001b[0;34m)\u001b[0m \u001b[0;34m/\u001b[0m \u001b[0muser_sqrt\u001b[0m\u001b[0;34m\u001b[0m\u001b[0m\n\u001b[1;32m     26\u001b[0m             \u001b[0mpred\u001b[0m \u001b[0;34m=\u001b[0m \u001b[0mglobal_mean\u001b[0m \u001b[0;34m+\u001b[0m \u001b[0mbu\u001b[0m\u001b[0;34m[\u001b[0m\u001b[0mu\u001b[0m\u001b[0;34m]\u001b[0m \u001b[0;34m+\u001b[0m \u001b[0mbi\u001b[0m\u001b[0;34m[\u001b[0m\u001b[0mi\u001b[0m\u001b[0;34m]\u001b[0m \u001b[0;34m+\u001b[0m \u001b[0mru\u001b[0m \u001b[0;34m+\u001b[0m \u001b[0mnu\u001b[0m\u001b[0;34m\u001b[0m\u001b[0m\n",
      "\u001b[0;31mKeyboardInterrupt\u001b[0m: "
     ]
    }
   ],
   "source": [
    "np.random.seed(42)\n",
    "k = 20   ############################\n",
    "n_users = len(user2id)\n",
    "n_items = len(item2id)\n",
    "global_mean = np.mean(train_ratings)\n",
    "n_epochs = 200\n",
    "lr = 0.002\n",
    "reg = 0.1\n",
    "\n",
    "bu = np.zeros((n_users,))\n",
    "bi = np.zeros((n_items,))\n",
    "w = np.random.normal(size=(n_items, n_items))\n",
    "c = np.random.normal(size=(n_items, n_items))\n",
    "\n",
    "for epoch in range(n_epochs):\n",
    "    t0 = time.time()\n",
    "    for u, i, r in ratings(data):\n",
    "        intersect_items, index_u = intersect_user_item[(u, i)]\n",
    "        \n",
    "        if len(intersect_items) == 0:\n",
    "            err = r - (global_mean + bu[u] + bi[i])\n",
    "            bu[u] += lr * (err - reg * bu[u])\n",
    "            bi[i] += lr * (err - reg * bi[i])\n",
    "        else:\n",
    "            u_ratings = np.array(list(data[u].values()))[index_u]\n",
    "            base_neighbor = global_mean + bbu[u] + bbi[intersect_items]\n",
    "            user_sqrt = np.sqrt(len(intersect_items))\n",
    "            ru = np.sum((u_ratings - base_neighbor) * w[i][intersect_items]) / user_sqrt\n",
    "            nu = np.sum(c[i][intersect_items]) / user_sqrt\n",
    "            err = r - (global_mean + bu[u] + bi[i] + ru + nu)\n",
    "\n",
    "            bu[u] += lr * (err - reg * bu[u])\n",
    "            bi[i] += lr * (err - reg * bi[i])\n",
    "            w[i][intersect_items] += lr * (err * (u_ratings - base_neighbor) / user_sqrt - \n",
    "                                           reg * w[i][intersect_items])\n",
    "            c[i][intersect_items] += lr * (err / user_sqrt - reg * c[i][intersect_items])\n",
    "            \n",
    "    print(\"Epoch: \", epoch + 1, \"\\ttime: \", time.time() - t0)\n",
    "    \n",
    "    if epoch % 1 == 0:\n",
    "        t1 = time.time()\n",
    "        print(\"Epoch: \", epoch + 1, \"\\ttraining RMSE: \", compute_rmse_neighbor_k(k, \"train\"), \n",
    "              \"\\ttest RMSE: \", compute_rmse_neighbor_k(k, \"test\"))\n",
    "        print(\"evaluate time: \", time.time() - t1)"
   ]
  },
  {
   "cell_type": "markdown",
   "metadata": {
    "collapsed": true
   },
   "source": [
    "---"
   ]
  },
  {
   "cell_type": "markdown",
   "metadata": {},
   "source": [
    "### SuperSVD"
   ]
  },
  {
   "cell_type": "code",
   "execution_count": 26,
   "metadata": {},
   "outputs": [
    {
     "data": {
      "text/plain": [
       "False"
      ]
     },
     "execution_count": 26,
     "metadata": {},
     "output_type": "execute_result"
    }
   ],
   "source": [
    "list(data.keys()) == list(range(n_users))"
   ]
  },
  {
   "cell_type": "code",
   "execution_count": 27,
   "metadata": {
    "collapsed": true
   },
   "outputs": [],
   "source": [
    "def compute_rmse_superSVD(k, mode=\"train\"):\n",
    "    if mode == \"train\":\n",
    "        user_indices = train_user_indices\n",
    "        item_indices = train_item_indices\n",
    "        ratings = train_ratings\n",
    "        intersect = intersect_user_item\n",
    "    elif mode == \"test\":\n",
    "        user_indices = test_user_indices\n",
    "        item_indices = test_item_indices\n",
    "        ratings = test_ratings\n",
    "        intersect = intersect_user_item_test\n",
    "        \n",
    "    print(len(user_indices), len(item_indices))\n",
    "    \n",
    "    nui = np.array([np.sum(yj[list(data[u].keys())], axis=0) / np.sqrt(len(data[u])) for u in range(n_users)])  # data.keys()\n",
    "    pred1 = global_mean + bu[user_indices] + bi[item_indices] + \\\n",
    "            np.dot(pu + nui, qi.T)[user_indices, item_indices]\n",
    "   \n",
    "    \n",
    "    pred2 = []\n",
    "    for u, i, r in zip(user_indices, item_indices, ratings):\n",
    "        intersect_items, index_u = intersect[(u, i)]\n",
    "        \n",
    "        if len(intersect_items) == 0:\n",
    "            pred2.append(0)\n",
    "        else:\n",
    "            u_ratings = np.array(list(data[u].values()))[index_u]\n",
    "            base_neighbor = global_mean + bbu[u] + bbi[intersect_items]\n",
    "            user_sqrt = np.sqrt(len(intersect_items))\n",
    "            ru = np.sum((u_ratings - base_neighbor) * w[i][intersect_items]) / user_sqrt\n",
    "            nu = np.sum(c[i][intersect_items]) / user_sqrt\n",
    "            pred2.append(ru + nu)\n",
    "    '''\n",
    "    if mode == \"train\":\n",
    "        print(\"train pred1: \", pred1[:10])\n",
    "        print(\"train pred2: \", pred2[:10])\n",
    "        print()\n",
    "    if mode == \"test\":\n",
    "        print(\"test pred1: \", pred1[:10])\n",
    "        print(\"test pred2: \", pred2[:10])\n",
    "        print()\n",
    "    '''\n",
    "    pred_whole = pred1 + pred2\n",
    "    score = np.sqrt(np.mean(np.power(pred_whole - ratings, 2)))\n",
    "    return score"
   ]
  },
  {
   "cell_type": "code",
   "execution_count": 29,
   "metadata": {
    "scrolled": true
   },
   "outputs": [
    {
     "name": "stdout",
     "output_type": "stream",
     "text": [
      "Epoch:  1 \ttime:  9.48443078994751\n",
      "75000 75000\n",
      "24851 24851\n",
      "Epoch:  1 \ttraining RMSE:  5.3533269684648435 \ttest RMSE:  10.373572104829243\n",
      "evaluate time:  1.5428125858306885\n",
      "Epoch:  2 \ttime:  10.6420259475708\n",
      "75000 75000\n",
      "24851 24851\n",
      "Epoch:  2 \ttraining RMSE:  3.22334835841845 \ttest RMSE:  9.147310134110043\n",
      "evaluate time:  1.4569406509399414\n",
      "Epoch:  3 \ttime:  11.131606817245483\n",
      "75000 75000\n",
      "24851 24851\n",
      "Epoch:  3 \ttraining RMSE:  2.3276268807081077 \ttest RMSE:  8.481751440412177\n",
      "evaluate time:  1.5579004287719727\n",
      "Epoch:  4 \ttime:  9.593751668930054\n",
      "75000 75000\n",
      "24851 24851\n",
      "Epoch:  4 \ttraining RMSE:  1.8446327751310254 \ttest RMSE:  8.049616719010164\n",
      "evaluate time:  1.559469223022461\n",
      "Epoch:  5 \ttime:  10.412916660308838\n",
      "75000 75000\n",
      "24851 24851\n",
      "Epoch:  5 \ttraining RMSE:  1.534450733787113 \ttest RMSE:  7.737887271094376\n",
      "evaluate time:  1.5151734352111816\n"
     ]
    },
    {
     "ename": "KeyboardInterrupt",
     "evalue": "",
     "output_type": "error",
     "traceback": [
      "\u001b[0;31m---------------------------------------------------------------------------\u001b[0m",
      "\u001b[0;31mKeyboardInterrupt\u001b[0m                         Traceback (most recent call last)",
      "\u001b[0;32m<ipython-input-29-466ae6bf53c4>\u001b[0m in \u001b[0;36m<module>\u001b[0;34m\u001b[0m\n\u001b[1;32m     45\u001b[0m             \u001b[0mqi\u001b[0m\u001b[0;34m[\u001b[0m\u001b[0mi\u001b[0m\u001b[0;34m]\u001b[0m \u001b[0;34m+=\u001b[0m \u001b[0mlr\u001b[0m \u001b[0;34m*\u001b[0m \u001b[0;34m(\u001b[0m\u001b[0merr\u001b[0m \u001b[0;34m*\u001b[0m \u001b[0;34m(\u001b[0m\u001b[0mpu\u001b[0m\u001b[0;34m[\u001b[0m\u001b[0mu\u001b[0m\u001b[0;34m]\u001b[0m \u001b[0;34m+\u001b[0m \u001b[0mnui\u001b[0m\u001b[0;34m)\u001b[0m \u001b[0;34m-\u001b[0m \u001b[0mreg\u001b[0m \u001b[0;34m*\u001b[0m \u001b[0mqi\u001b[0m\u001b[0;34m[\u001b[0m\u001b[0mi\u001b[0m\u001b[0;34m]\u001b[0m\u001b[0;34m)\u001b[0m\u001b[0;34m\u001b[0m\u001b[0m\n\u001b[1;32m     46\u001b[0m             \u001b[0mpu\u001b[0m\u001b[0;34m[\u001b[0m\u001b[0mu\u001b[0m\u001b[0;34m]\u001b[0m \u001b[0;34m+=\u001b[0m \u001b[0mlr\u001b[0m \u001b[0;34m*\u001b[0m \u001b[0;34m(\u001b[0m\u001b[0merr\u001b[0m \u001b[0;34m*\u001b[0m \u001b[0mqi\u001b[0m\u001b[0;34m[\u001b[0m\u001b[0mi\u001b[0m\u001b[0;34m]\u001b[0m \u001b[0;34m-\u001b[0m \u001b[0mreg\u001b[0m \u001b[0;34m*\u001b[0m \u001b[0mpu\u001b[0m\u001b[0;34m[\u001b[0m\u001b[0mu\u001b[0m\u001b[0;34m]\u001b[0m\u001b[0;34m)\u001b[0m\u001b[0;34m\u001b[0m\u001b[0m\n\u001b[0;32m---> 47\u001b[0;31m             \u001b[0myj\u001b[0m\u001b[0;34m[\u001b[0m\u001b[0mu_items\u001b[0m\u001b[0;34m]\u001b[0m \u001b[0;34m+=\u001b[0m \u001b[0mlr\u001b[0m \u001b[0;34m*\u001b[0m \u001b[0;34m(\u001b[0m\u001b[0merr\u001b[0m \u001b[0;34m*\u001b[0m \u001b[0mqi\u001b[0m\u001b[0;34m[\u001b[0m\u001b[0mu_items\u001b[0m\u001b[0;34m]\u001b[0m \u001b[0;34m/\u001b[0m \u001b[0mnu_sqrt\u001b[0m \u001b[0;34m-\u001b[0m \u001b[0mreg\u001b[0m \u001b[0;34m*\u001b[0m \u001b[0myj\u001b[0m\u001b[0;34m[\u001b[0m\u001b[0mu_items\u001b[0m\u001b[0;34m]\u001b[0m\u001b[0;34m)\u001b[0m\u001b[0;34m\u001b[0m\u001b[0m\n\u001b[0m\u001b[1;32m     48\u001b[0m             w[i][intersect_items] += lr * (err * (u_ratings - base_neighbor) / user_sqrt - \n\u001b[1;32m     49\u001b[0m                                            reg * w[i][intersect_items])\n",
      "\u001b[0;31mKeyboardInterrupt\u001b[0m: "
     ]
    }
   ],
   "source": [
    "np.random.seed(42)\n",
    "k = 20   ############################\n",
    "n_users = len(user2id)\n",
    "n_items = len(item2id)\n",
    "n_factors = 100\n",
    "global_mean = np.mean(train_ratings)\n",
    "n_epochs = 200\n",
    "lr = 0.002\n",
    "reg = 0.1\n",
    "\n",
    "bu = np.zeros((n_users,))\n",
    "bi = np.zeros((n_items,))\n",
    "pu = np.random.normal(size=(n_users, n_factors))\n",
    "qi = np.random.normal(size=(n_items, n_factors))\n",
    "yj = np.random.normal(size=(n_items, n_factors))\n",
    "w = np.random.normal(size=(n_items, n_items))\n",
    "c = np.random.normal(size=(n_items, n_items))\n",
    "\n",
    "for epoch in range(n_epochs):\n",
    "    t0 = time.time()\n",
    "    for u, i, r in ratings(data):\n",
    "        u_items = list(data[u].keys())\n",
    "        nu_sqrt = np.sqrt(len(u_items))\n",
    "        nui = np.sum(yj[u_items], axis=0) / nu_sqrt\n",
    "        dot = np.dot(qi[i], pu[u] + nui)\n",
    "        intersect_items, index_u = intersect_user_item[(u, i)]\n",
    "        \n",
    "        if len(intersect_items) == 0:\n",
    "            err = r - (global_mean + bu[u] + bi[i] + dot)\n",
    "            bu[u] += lr * (err - reg * bu[u])\n",
    "            bi[i] += lr * (err - reg * bi[i])\n",
    "            qi[i] += lr * (err * (pu[u] + nui) - reg * qi[i])\n",
    "            pu[u] += lr * (err * qi[i] - reg * pu[u])\n",
    "            yj[u_items] += lr * (err * qi[u_items] / nu_sqrt - reg * yj[u_items])\n",
    "        else:\n",
    "            u_ratings = np.array(list(data[u].values()))[index_u]\n",
    "            base_neighbor = global_mean + bbu[u] + bbi[intersect_items]\n",
    "            user_sqrt = np.sqrt(len(intersect_items))\n",
    "            ru = np.sum((u_ratings - base_neighbor) * w[i][intersect_items]) / user_sqrt \n",
    "            nu = np.sum(c[i][intersect_items]) / user_sqrt\n",
    "            err = r - (global_mean + bu[u] + bi[i] + dot + ru + nu)\n",
    "\n",
    "            bu[u] += lr * (err - reg * bu[u])\n",
    "            bi[i] += lr * (err - reg * bi[i])\n",
    "            qi[i] += lr * (err * (pu[u] + nui) - reg * qi[i])\n",
    "            pu[u] += lr * (err * qi[i] - reg * pu[u])\n",
    "            yj[u_items] += lr * (err * qi[u_items] / nu_sqrt - reg * yj[u_items])\n",
    "            w[i][intersect_items] += lr * (err * (u_ratings - base_neighbor) / user_sqrt - \n",
    "                                           reg * w[i][intersect_items])\n",
    "            c[i][intersect_items] += lr * (err / user_sqrt - reg * c[i][intersect_items])\n",
    "            \n",
    "    print(\"Epoch: \", epoch + 1, \"\\ttime: \", time.time() - t0)\n",
    "    \n",
    "    if epoch % 1 == 0:\n",
    "        t1 = time.time()\n",
    "        print(\"Epoch: \", epoch + 1, \"\\ttraining RMSE: \", compute_rmse_superSVD(k, \"train\"), \n",
    "              \"\\ttest RMSE: \", compute_rmse_superSVD(k, \"test\"))\n",
    "        print(\"evaluate time: \", time.time() - t1)"
   ]
  },
  {
   "cell_type": "code",
   "execution_count": null,
   "metadata": {
    "collapsed": true
   },
   "outputs": [],
   "source": []
  }
 ],
 "metadata": {
  "anaconda-cloud": {},
  "kernelspec": {
   "display_name": "Python 3",
   "language": "python",
   "name": "python3"
  },
  "language_info": {
   "codemirror_mode": {
    "name": "ipython",
    "version": 3
   },
   "file_extension": ".py",
   "mimetype": "text/x-python",
   "name": "python",
   "nbconvert_exporter": "python",
   "pygments_lexer": "ipython3",
   "version": "3.5.4"
  }
 },
 "nbformat": 4,
 "nbformat_minor": 1
}
