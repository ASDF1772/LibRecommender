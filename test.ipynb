{
 "cells": [
  {
   "cell_type": "code",
   "execution_count": 1,
   "metadata": {},
   "outputs": [],
   "source": [
    "import warnings\n",
    "warnings.filterwarnings(\"ignore\")\n",
    "from collections import defaultdict\n",
    "import time\n",
    "from multiprocessing import Pool\n",
    "import numpy as np\n",
    "import pandas as pd\n",
    "from math import sqrt\n",
    "import tensorflow as tf"
   ]
  },
  {
   "cell_type": "code",
   "execution_count": 24,
   "metadata": {
    "collapsed": true
   },
   "outputs": [],
   "source": [
    "np.random.seed(42)\n",
    "train_set = open(\"ml-1m/ratings.dat\").readlines()\n",
    "train_set = np.random.permutation(train_set)[:100]\n",
    "train_threshold = int(0.75 * len(train_set))\n",
    "# train_indices = []\n",
    "# test_indices = []\n",
    "train_user_indices = []\n",
    "train_item_indices = []\n",
    "test_user_indices = []\n",
    "test_item_indices = []\n",
    "train_ratings = []\n",
    "test_ratings = []\n",
    "\n",
    "data = defaultdict(dict)\n",
    "user2id = {}\n",
    "item2id = {}\n",
    "index_user = 0\n",
    "index_item = 0\n",
    "\n",
    "for i, line in enumerate(train_set):\n",
    "    user = line.split(\"::\")[0]\n",
    "    item = line.split(\"::\")[1]\n",
    "    rating = line.split(\"::\")[2]\n",
    "    \n",
    "    try:\n",
    "        user_id = user2id[user]\n",
    "    except KeyError:\n",
    "        user_id = index_user\n",
    "        user2id[user] = index_user\n",
    "        index_user += 1\n",
    "    try:\n",
    "        item_id = item2id[item]\n",
    "    except KeyError:\n",
    "        item_id = index_item\n",
    "        item2id[item] = index_item\n",
    "        index_item += 1\n",
    "        \n",
    "    if i < train_threshold:\n",
    "    #    train_indices.append((user_id, item_id))\n",
    "        train_user_indices.append(user_id)\n",
    "        train_item_indices.append(item_id)\n",
    "        train_ratings.append(int(rating))\n",
    "        data[user_id].update(dict(zip([item_id], [int(rating)])))\n",
    "    else:\n",
    "    #    test_indices.append((user_id, item_id))\n",
    "        test_user_indices.append(user_id)\n",
    "        test_item_indices.append(item_id)\n",
    "        test_ratings.append(int(rating))"
   ]
  },
  {
   "cell_type": "code",
   "execution_count": 25,
   "metadata": {},
   "outputs": [
    {
     "data": {
      "text/plain": [
       "(75, 25)"
      ]
     },
     "execution_count": 25,
     "metadata": {},
     "output_type": "execute_result"
    }
   ],
   "source": [
    "len(train_ratings), len(test_ratings)"
   ]
  },
  {
   "cell_type": "code",
   "execution_count": 26,
   "metadata": {
    "collapsed": true
   },
   "outputs": [],
   "source": [
    "def ratings(dataset):\n",
    "    for user, r in data.items():\n",
    "        for item, rating in r.items():\n",
    "            yield user, item, rating"
   ]
  },
  {
   "cell_type": "code",
   "execution_count": 27,
   "metadata": {
    "collapsed": true
   },
   "outputs": [],
   "source": [
    "n_users = len(user2id)\n",
    "n_items = len(item2id)\n",
    "n_factors = 100\n",
    "user_list = np.array(list(data.keys()), dtype=np.int32)"
   ]
  },
  {
   "cell_type": "code",
   "execution_count": null,
   "metadata": {
    "collapsed": true
   },
   "outputs": [],
   "source": []
  },
  {
   "cell_type": "code",
   "execution_count": 32,
   "metadata": {
    "collapsed": true
   },
   "outputs": [],
   "source": [
    "aa = pd.read_csv(\"ml-1m/ratings.dat\", sep=\"::\", header=None, names=[\"user\", \"item\", \"rating\", \"timestamp\"])\n",
    "aa = aa.filter(regex=\"user|item|rating\")"
   ]
  },
  {
   "cell_type": "code",
   "execution_count": 36,
   "metadata": {},
   "outputs": [
    {
     "data": {
      "text/html": [
       "<div>\n",
       "<style scoped>\n",
       "    .dataframe tbody tr th:only-of-type {\n",
       "        vertical-align: middle;\n",
       "    }\n",
       "\n",
       "    .dataframe tbody tr th {\n",
       "        vertical-align: top;\n",
       "    }\n",
       "\n",
       "    .dataframe thead th {\n",
       "        text-align: right;\n",
       "    }\n",
       "</style>\n",
       "<table border=\"1\" class=\"dataframe\">\n",
       "  <thead>\n",
       "    <tr style=\"text-align: right;\">\n",
       "      <th></th>\n",
       "      <th>user</th>\n",
       "      <th>item</th>\n",
       "      <th>rating</th>\n",
       "    </tr>\n",
       "  </thead>\n",
       "  <tbody>\n",
       "    <tr>\n",
       "      <th>0</th>\n",
       "      <td>1</td>\n",
       "      <td>1193</td>\n",
       "      <td>5</td>\n",
       "    </tr>\n",
       "    <tr>\n",
       "      <th>1</th>\n",
       "      <td>1</td>\n",
       "      <td>661</td>\n",
       "      <td>3</td>\n",
       "    </tr>\n",
       "    <tr>\n",
       "      <th>2</th>\n",
       "      <td>1</td>\n",
       "      <td>914</td>\n",
       "      <td>3</td>\n",
       "    </tr>\n",
       "    <tr>\n",
       "      <th>3</th>\n",
       "      <td>1</td>\n",
       "      <td>3408</td>\n",
       "      <td>4</td>\n",
       "    </tr>\n",
       "    <tr>\n",
       "      <th>4</th>\n",
       "      <td>1</td>\n",
       "      <td>2355</td>\n",
       "      <td>5</td>\n",
       "    </tr>\n",
       "  </tbody>\n",
       "</table>\n",
       "</div>"
      ],
      "text/plain": [
       "   user  item  rating\n",
       "0     1  1193       5\n",
       "1     1   661       3\n",
       "2     1   914       3\n",
       "3     1  3408       4\n",
       "4     1  2355       5"
      ]
     },
     "execution_count": 36,
     "metadata": {},
     "output_type": "execute_result"
    }
   ],
   "source": [
    "aa.head()"
   ]
  },
  {
   "cell_type": "code",
   "execution_count": 39,
   "metadata": {},
   "outputs": [
    {
     "data": {
      "text/plain": [
       "{'item': {0: 1193,\n",
       "  1: 661,\n",
       "  2: 914,\n",
       "  3: 3408,\n",
       "  4: 2355,\n",
       "  5: 1197,\n",
       "  6: 1287,\n",
       "  7: 2804,\n",
       "  8: 594,\n",
       "  9: 919,\n",
       "  10: 595,\n",
       "  11: 938,\n",
       "  12: 2398,\n",
       "  13: 2918,\n",
       "  14: 1035,\n",
       "  15: 2791,\n",
       "  16: 2687,\n",
       "  17: 2018,\n",
       "  18: 3105,\n",
       "  19: 2797,\n",
       "  20: 2321,\n",
       "  21: 720,\n",
       "  22: 1270,\n",
       "  23: 527,\n",
       "  24: 2340,\n",
       "  25: 48,\n",
       "  26: 1097,\n",
       "  27: 1721,\n",
       "  28: 1545,\n",
       "  29: 745,\n",
       "  30: 2294,\n",
       "  31: 3186,\n",
       "  32: 1566,\n",
       "  33: 588,\n",
       "  34: 1907,\n",
       "  35: 783,\n",
       "  36: 1836,\n",
       "  37: 1022,\n",
       "  38: 2762,\n",
       "  39: 150,\n",
       "  40: 1,\n",
       "  41: 1961,\n",
       "  42: 1962,\n",
       "  43: 2692,\n",
       "  44: 260,\n",
       "  45: 1028,\n",
       "  46: 1029,\n",
       "  47: 1207,\n",
       "  48: 2028,\n",
       "  49: 531,\n",
       "  50: 3114,\n",
       "  51: 608,\n",
       "  52: 1246},\n",
       " 'rating': {0: 5,\n",
       "  1: 3,\n",
       "  2: 3,\n",
       "  3: 4,\n",
       "  4: 5,\n",
       "  5: 3,\n",
       "  6: 5,\n",
       "  7: 5,\n",
       "  8: 4,\n",
       "  9: 4,\n",
       "  10: 5,\n",
       "  11: 4,\n",
       "  12: 4,\n",
       "  13: 4,\n",
       "  14: 5,\n",
       "  15: 4,\n",
       "  16: 3,\n",
       "  17: 4,\n",
       "  18: 5,\n",
       "  19: 4,\n",
       "  20: 3,\n",
       "  21: 3,\n",
       "  22: 5,\n",
       "  23: 5,\n",
       "  24: 3,\n",
       "  25: 5,\n",
       "  26: 4,\n",
       "  27: 4,\n",
       "  28: 4,\n",
       "  29: 3,\n",
       "  30: 4,\n",
       "  31: 4,\n",
       "  32: 4,\n",
       "  33: 4,\n",
       "  34: 4,\n",
       "  35: 4,\n",
       "  36: 5,\n",
       "  37: 5,\n",
       "  38: 4,\n",
       "  39: 5,\n",
       "  40: 5,\n",
       "  41: 5,\n",
       "  42: 4,\n",
       "  43: 4,\n",
       "  44: 4,\n",
       "  45: 5,\n",
       "  46: 5,\n",
       "  47: 4,\n",
       "  48: 5,\n",
       "  49: 4,\n",
       "  50: 4,\n",
       "  51: 4,\n",
       "  52: 4},\n",
       " 'user': {0: 1,\n",
       "  1: 1,\n",
       "  2: 1,\n",
       "  3: 1,\n",
       "  4: 1,\n",
       "  5: 1,\n",
       "  6: 1,\n",
       "  7: 1,\n",
       "  8: 1,\n",
       "  9: 1,\n",
       "  10: 1,\n",
       "  11: 1,\n",
       "  12: 1,\n",
       "  13: 1,\n",
       "  14: 1,\n",
       "  15: 1,\n",
       "  16: 1,\n",
       "  17: 1,\n",
       "  18: 1,\n",
       "  19: 1,\n",
       "  20: 1,\n",
       "  21: 1,\n",
       "  22: 1,\n",
       "  23: 1,\n",
       "  24: 1,\n",
       "  25: 1,\n",
       "  26: 1,\n",
       "  27: 1,\n",
       "  28: 1,\n",
       "  29: 1,\n",
       "  30: 1,\n",
       "  31: 1,\n",
       "  32: 1,\n",
       "  33: 1,\n",
       "  34: 1,\n",
       "  35: 1,\n",
       "  36: 1,\n",
       "  37: 1,\n",
       "  38: 1,\n",
       "  39: 1,\n",
       "  40: 1,\n",
       "  41: 1,\n",
       "  42: 1,\n",
       "  43: 1,\n",
       "  44: 1,\n",
       "  45: 1,\n",
       "  46: 1,\n",
       "  47: 1,\n",
       "  48: 1,\n",
       "  49: 1,\n",
       "  50: 1,\n",
       "  51: 1,\n",
       "  52: 1}}"
      ]
     },
     "execution_count": 39,
     "metadata": {},
     "output_type": "execute_result"
    }
   ],
   "source": [
    "aa[aa.user == 1].to_dict()"
   ]
  },
  {
   "cell_type": "code",
   "execution_count": 41,
   "metadata": {},
   "outputs": [
    {
     "data": {
      "text/plain": [
       "(dict_keys([1]), dict_values([5]))"
      ]
     },
     "execution_count": 41,
     "metadata": {},
     "output_type": "execute_result"
    }
   ],
   "source": [
    "data[1].keys(), data[1].values()"
   ]
  },
  {
   "cell_type": "code",
   "execution_count": 20,
   "metadata": {},
   "outputs": [
    {
     "data": {
      "text/plain": [
       "dict_values([1, 1193, 5])"
      ]
     },
     "execution_count": 20,
     "metadata": {},
     "output_type": "execute_result"
    }
   ],
   "source": [
    "aa.iloc[0].to_dict().values()"
   ]
  },
  {
   "cell_type": "code",
   "execution_count": 21,
   "metadata": {
    "collapsed": true
   },
   "outputs": [],
   "source": [
    "def ratings2(dataset):\n",
    "    for user, item, rating in zip(dataset.user, dataset.item, dataset.rating):\n",
    "        yield user, item, rating"
   ]
  },
  {
   "cell_type": "code",
   "execution_count": 68,
   "metadata": {},
   "outputs": [
    {
     "data": {
      "text/plain": [
       "array([[ 0,  1,  2,  3],\n",
       "       [ 4,  5,  6,  7],\n",
       "       [ 8,  9, 10, 11],\n",
       "       [12, 13, 14, 15]])"
      ]
     },
     "execution_count": 68,
     "metadata": {},
     "output_type": "execute_result"
    }
   ],
   "source": [
    "aa = np.arange(16).reshape(4,4)\n",
    "aa"
   ]
  },
  {
   "cell_type": "code",
   "execution_count": 96,
   "metadata": {},
   "outputs": [
    {
     "data": {
      "text/plain": [
       "array([[ 0,  2],\n",
       "       [ 8, 10]])"
      ]
     },
     "execution_count": 96,
     "metadata": {},
     "output_type": "execute_result"
    }
   ],
   "source": [
    "np.take_along_axis(aa[[0,2]], np.array([[0,2]]), axis=1)"
   ]
  },
  {
   "cell_type": "code",
   "execution_count": 100,
   "metadata": {},
   "outputs": [
    {
     "data": {
      "text/plain": [
       "array([[ 0,  2],\n",
       "       [ 8, 10]])"
      ]
     },
     "execution_count": 100,
     "metadata": {},
     "output_type": "execute_result"
    }
   ],
   "source": [
    "np.take(aa[[0,2]], [0,2], axis=1)"
   ]
  },
  {
   "cell_type": "code",
   "execution_count": 104,
   "metadata": {},
   "outputs": [
    {
     "data": {
      "text/plain": [
       "array([[ 0,  2],\n",
       "       [ 8, 10]])"
      ]
     },
     "execution_count": 104,
     "metadata": {},
     "output_type": "execute_result"
    }
   ],
   "source": [
    "aa[[0,2]][:, [0,2]]"
   ]
  },
  {
   "cell_type": "code",
   "execution_count": 113,
   "metadata": {},
   "outputs": [
    {
     "data": {
      "text/plain": [
       "array([ 1, 10, 11])"
      ]
     },
     "execution_count": 113,
     "metadata": {},
     "output_type": "execute_result"
    }
   ],
   "source": [
    "aa[[0,2,2], [1,2,3]]"
   ]
  },
  {
   "cell_type": "code",
   "execution_count": 120,
   "metadata": {},
   "outputs": [
    {
     "data": {
      "text/plain": [
       "array([0, 1, 2, 3, 4, 5, 6, 7, 8, 9])"
      ]
     },
     "execution_count": 120,
     "metadata": {},
     "output_type": "execute_result"
    }
   ],
   "source": [
    "np.array([i for i in range(10)])"
   ]
  },
  {
   "cell_type": "code",
   "execution_count": 118,
   "metadata": {},
   "outputs": [
    {
     "data": {
      "text/plain": [
       "array([[0, 1],\n",
       "       [2, 2],\n",
       "       [2, 3]])"
      ]
     },
     "execution_count": 118,
     "metadata": {},
     "output_type": "execute_result"
    }
   ],
   "source": [
    "np.take(aa, list(zip(index1, index2)))"
   ]
  },
  {
   "cell_type": "code",
   "execution_count": 115,
   "metadata": {},
   "outputs": [
    {
     "data": {
      "text/plain": [
       "(array([2]), array([2]))"
      ]
     },
     "execution_count": 115,
     "metadata": {},
     "output_type": "execute_result"
    }
   ],
   "source": [
    "np.where(aa == 10)"
   ]
  },
  {
   "cell_type": "markdown",
   "metadata": {},
   "source": [
    "## Collaborative Filtering"
   ]
  },
  {
   "cell_type": "code",
   "execution_count": null,
   "metadata": {
    "collapsed": true
   },
   "outputs": [],
   "source": [
    "# UNDO :  common calculate   raw_id2inner_id  pearson_similarity  predict_ratings"
   ]
  },
  {
   "cell_type": "code",
   "execution_count": 5,
   "metadata": {
    "collapsed": true
   },
   "outputs": [],
   "source": [
    "def common(x1,x2):\n",
    "    # find common ratings\n",
    "    common = (x1 != 0) & (x2 != 0)\n",
    "    new_x1 = x1[common]\n",
    "    new_x2 = x2[common]\n",
    "    return new_x1, new_x2"
   ]
  },
  {
   "cell_type": "code",
   "execution_count": 6,
   "metadata": {},
   "outputs": [
    {
     "data": {
      "text/plain": [
       "(array([1, 3]), array([1, 4]))"
      ]
     },
     "execution_count": 6,
     "metadata": {},
     "output_type": "execute_result"
    }
   ],
   "source": [
    "x = np.array([1,2,3,0])\n",
    "x1 = np.array([1,0, 4, 6])\n",
    "c = (x != 0) & (x1 != 0)\n",
    "x[c], x1[c]"
   ]
  },
  {
   "cell_type": "code",
   "execution_count": null,
   "metadata": {
    "collapsed": true
   },
   "outputs": [],
   "source": []
  },
  {
   "cell_type": "code",
   "execution_count": 2,
   "metadata": {
    "collapsed": true
   },
   "outputs": [],
   "source": [
    "def common(x1, x2):\n",
    "    common = (x1 != 0) & (x2 != 0)\n",
    "    new_x1 = x1[common]\n",
    "    new_x2 = x2[common]\n",
    "    return new_x1, new_x2"
   ]
  },
  {
   "cell_type": "code",
   "execution_count": 16,
   "metadata": {},
   "outputs": [
    {
     "data": {
      "text/plain": [
       "(array([4, 5, 5]), array([2, 3, 5]))"
      ]
     },
     "execution_count": 16,
     "metadata": {},
     "output_type": "execute_result"
    }
   ],
   "source": [
    "x1 = np.array([4,0,5,5])\n",
    "x2 = np.array([2,1,3,5])\n",
    "common(x1, x2)"
   ]
  },
  {
   "cell_type": "code",
   "execution_count": 17,
   "metadata": {},
   "outputs": [
    {
     "data": {
      "text/plain": [
       "[(4, 2), (5, 3), (5, 5)]"
      ]
     },
     "execution_count": 17,
     "metadata": {},
     "output_type": "execute_result"
    }
   ],
   "source": [
    "list(zip(common(x1, x2)[0], common(x1, x2)[1]))"
   ]
  },
  {
   "cell_type": "code",
   "execution_count": 18,
   "metadata": {},
   "outputs": [
    {
     "data": {
      "text/plain": [
       "0.7559289460184546"
      ]
     },
     "execution_count": 18,
     "metadata": {},
     "output_type": "execute_result"
    }
   ],
   "source": [
    "numerator = 0\n",
    "denominator1 = 0\n",
    "denominator2 = 0\n",
    "mean1 = np.mean(common(x1, x2)[0])\n",
    "mean2 = np.mean(common(x1, x2)[1])\n",
    "for i, j in zip(common(x1, x2)[0], common(x1, x2)[1]):\n",
    "    numerator += (i - mean1) * (j - mean2)\n",
    "    denominator1 += (i - mean1) ** 2\n",
    "    denominator2 += (j - mean2) ** 2\n",
    "\n",
    "numerator / (np.sqrt(denominator1) * np.sqrt(denominator2))"
   ]
  },
  {
   "cell_type": "code",
   "execution_count": null,
   "metadata": {
    "collapsed": true
   },
   "outputs": [],
   "source": []
  },
  {
   "cell_type": "code",
   "execution_count": null,
   "metadata": {
    "collapsed": true
   },
   "outputs": [],
   "source": []
  },
  {
   "cell_type": "markdown",
   "metadata": {},
   "source": [
    "## matrix factorization"
   ]
  },
  {
   "cell_type": "code",
   "execution_count": null,
   "metadata": {
    "collapsed": true
   },
   "outputs": [],
   "source": [
    "example = defaultdict(dict)\n",
    "for key in range(200):\n",
    "#    key = str(key)\n",
    "    example[key] = data[key]\n",
    "# data = example"
   ]
  },
  {
   "cell_type": "code",
   "execution_count": 9,
   "metadata": {},
   "outputs": [
    {
     "data": {
      "text/plain": [
       "[array([[ True,  True,  True, False,  True],\n",
       "        [ True, False,  True, False,  True]]), array([[0, 0],\n",
       "        [0, 1],\n",
       "        [0, 2],\n",
       "        [0, 4],\n",
       "        [1, 0],\n",
       "        [1, 2],\n",
       "        [1, 4]]), array([1., 2., 3., 2., 1., 3., 3.], dtype=float32), array([1., 2., 3., 2., 1., 3., 3.], dtype=float32)]"
      ]
     },
     "execution_count": 9,
     "metadata": {},
     "output_type": "execute_result"
    }
   ],
   "source": [
    "a = tf.constant(np.array([[1,2,3,0,2], [1,0,3,0,3]]), dtype=tf.float32)\n",
    "zero = tf.constant(0, dtype=tf.float32)  ## -1\n",
    "mask = tf.not_equal(a, zero)\n",
    "# indices = tf.reshape(tf.where(mask), shape=[-1])\n",
    "indices = tf.where(mask)\n",
    "c = tf.gather_nd(a, indices)\n",
    "d = tf.boolean_mask(a, mask)\n",
    "\n",
    "sess = tf.InteractiveSession()\n",
    "sess.run([mask, indices, c, d])"
   ]
  },
  {
   "cell_type": "code",
   "execution_count": 16,
   "metadata": {},
   "outputs": [
    {
     "data": {
      "text/plain": [
       "array([ 2,  7,  8, 10,  9, 14, 17, 17, 17, 19])"
      ]
     },
     "execution_count": 16,
     "metadata": {},
     "output_type": "execute_result"
    }
   ],
   "source": [
    "def func(a):\n",
    "    return a[0] + a[1] + a[2]\n",
    "\n",
    "aa = np.array(train_user_indices)[:10]\n",
    "bb = np.array(train_item_indices)[:10]\n",
    "cc = np.array(train_ratings)[:10]\n",
    "nu = tf.map_fn(func, [aa, bb, cc], dtype=tf.int64)\n",
    "sess = tf.InteractiveSession()\n",
    "sess.run(nu)"
   ]
  },
  {
   "cell_type": "code",
   "execution_count": 17,
   "metadata": {},
   "outputs": [
    {
     "data": {
      "text/plain": [
       "[array([1, 2, 3], dtype=int32), 3]"
      ]
     },
     "execution_count": 17,
     "metadata": {},
     "output_type": "execute_result"
    }
   ],
   "source": [
    "aa = np.array([[1,2,3,0,0], [4,5,6,7,8]], dtype=np.int32)\n",
    "oo = tf.nn.embedding_lookup(aa, 0)\n",
    "zero = tf.constant(0, dtype=tf.int32)\n",
    "mask = tf.not_equal(oo, zero)\n",
    "u_items_mask = tf.boolean_mask(oo, mask)\n",
    "# ii = tf.gather(oo, u_items_mask)\n",
    "sess = tf.InteractiveSession()\n",
    "sess.run([u_items_mask, tf.size(u_items_mask)])"
   ]
  },
  {
   "cell_type": "code",
   "execution_count": 18,
   "metadata": {},
   "outputs": [
    {
     "data": {
      "text/plain": [
       "[array([[-0.0599637 ,  0.10894931,  0.02212552, ...,  0.06748607,\n",
       "         -0.17401433, -0.09068567],\n",
       "        [ 0.01508748,  0.01031978,  0.00728436, ...,  0.02157799,\n",
       "         -0.03474513, -0.06860533],\n",
       "        [ 0.0499043 ,  0.04905506, -0.09098595, ...,  0.2249795 ,\n",
       "          0.03475139, -0.01830734],\n",
       "        ...,\n",
       "        [-0.02819956, -0.00509941,  0.00060968, ..., -0.02477363,\n",
       "         -0.00529699,  0.01257202],\n",
       "        [-0.01476342, -0.00543445, -0.00674025, ..., -0.0633116 ,\n",
       "         -0.00543289,  0.00431837],\n",
       "        [-0.0382369 ,  0.04862677, -0.00541936, ...,  0.00024505,\n",
       "          0.03966409,  0.00907592]], dtype=float32),\n",
       " array([6040,  100], dtype=int32)]"
      ]
     },
     "execution_count": 18,
     "metadata": {},
     "output_type": "execute_result"
    }
   ],
   "source": [
    "train_data = np.zeros((n_users, n_items), dtype=np.int32)\n",
    "for u in data:\n",
    "    u_items = list(data[u].keys())\n",
    "    train_data[u] = np.array(u_items + [0] * (n_items - len(u_items)))\n",
    "\n",
    "pseudo_data = tf.placeholder(tf.int32, shape=[n_users, n_items])\n",
    "yj = tf.Variable(tf.random_normal([n_items, n_factors], 0.0, 0.01))\n",
    "\n",
    "def nu_func(user):\n",
    "    u_items = tf.nn.embedding_lookup(pseudo_data, user)\n",
    "    zero = tf.constant(0, dtype=tf.int32)\n",
    "    mask = tf.not_equal(u_items, zero)\n",
    "    u_items_mask = tf.boolean_mask(u_items, mask)\n",
    "    return tf.reduce_sum(tf.gather(yj, u_items_mask), axis=0)\n",
    "\n",
    "user_list = np.array(list(data.keys()), dtype=np.int32)\n",
    "nu = tf.map_fn(nu_func, user_list, dtype=tf.float32)\n",
    "sess = tf.InteractiveSession()\n",
    "sess.run(tf.global_variables_initializer())\n",
    "sess.run([nu, tf.shape(nu)], feed_dict={pseudo_data: train_data})"
   ]
  },
  {
   "cell_type": "markdown",
   "metadata": {},
   "source": [
    "## Factorization Meets the Neighborhood"
   ]
  },
  {
   "cell_type": "code",
   "execution_count": 19,
   "metadata": {
    "collapsed": true
   },
   "outputs": [],
   "source": [
    "aa = pd.read_csv(\"ml-1m/ratings.dat\", sep=\"::\", header=None, names=[\"user\", \"item\", \"rating\", \"timestamp\"])\n",
    "aa = aa.filter(regex=\"user|item|rating\")"
   ]
  },
  {
   "cell_type": "code",
   "execution_count": 20,
   "metadata": {},
   "outputs": [
    {
     "data": {
      "text/plain": [
       "dict_values([1, 1193, 5])"
      ]
     },
     "execution_count": 20,
     "metadata": {},
     "output_type": "execute_result"
    }
   ],
   "source": [
    "aa.iloc[0].to_dict().values()"
   ]
  },
  {
   "cell_type": "code",
   "execution_count": 21,
   "metadata": {
    "collapsed": true
   },
   "outputs": [],
   "source": [
    "def ratings2(dataset):\n",
    "    for user, item, rating in zip(dataset.user, dataset.item, dataset.rating):\n",
    "        yield user, item, rating"
   ]
  },
  {
   "cell_type": "code",
   "execution_count": 25,
   "metadata": {
    "collapsed": true
   },
   "outputs": [],
   "source": [
    "train_data = np.zeros((n_users, n_items), dtype=np.int32)\n",
    "for u in data:\n",
    "    u_items = list(data[u].keys())\n",
    "    train_data[u] = np.array(u_items + [-1] * (n_items - len(u_items)))"
   ]
  },
  {
   "cell_type": "code",
   "execution_count": 31,
   "metadata": {
    "scrolled": true
   },
   "outputs": [
    {
     "data": {
      "text/plain": [
       "array([   1, 1371, 1992,  202,  139,  269,   15, 1176,  533, 2200, 1124,\n",
       "        282,  591,  989,  224,  737, 1763,  804,  549, 1063, 3049, 1519,\n",
       "       1457, 2696, 2345, 1019], dtype=int32)"
      ]
     },
     "execution_count": 31,
     "metadata": {},
     "output_type": "execute_result"
    }
   ],
   "source": [
    "aa = tf.placeholder(tf.int32, shape=[None, len(item2id)])\n",
    "oo = tf.nn.embedding_lookup(aa, 1)\n",
    "zero = tf.constant(-1, dtype=tf.int32)\n",
    "mask = tf.not_equal(oo, zero)\n",
    "u_items_mask = tf.boolean_mask(oo, mask)\n",
    "sess = tf.InteractiveSession()\n",
    "sess.run(u_items_mask, feed_dict={aa: train_data})"
   ]
  },
  {
   "cell_type": "code",
   "execution_count": 32,
   "metadata": {},
   "outputs": [
    {
     "data": {
      "text/plain": [
       "array([ 9, 10, 18], dtype=int32)"
      ]
     },
     "execution_count": 32,
     "metadata": {},
     "output_type": "execute_result"
    }
   ],
   "source": [
    "aa = tf.constant([[1,2,3], [4,5,6]])\n",
    "bb = tf.gather(tf.gather(aa, 0), [1,1])\n",
    "test_user = tf.placeholder(tf.int32, shape=[None])\n",
    "test_item = tf.placeholder(tf.int32, shape=[None])\n",
    "# elems = (np.array([1,2,3]), np.array([4,5,6]))\n",
    "def func(x):\n",
    "    q = x[0]\n",
    "    r = x[1]\n",
    "    return q * r\n",
    "\n",
    "cc = tf.map_fn(func, (test_user, test_item), dtype=tf.int32)\n",
    "\n",
    "# lambda x: x[0] + x[1]\n",
    "# elems = (np.array([1, 2, 3], dtype=np.int32), np.array([-1, 1, -1], dtype=np.int32))\n",
    "# alternate = tf.map_fn(lambda x: x[0] * x[1], elems, dtype=tf.int32)\n",
    "sess = tf.InteractiveSession()\n",
    "sess.run(cc, feed_dict={test_user: [1,2,3], test_item: [9,5,6]})"
   ]
  },
  {
   "cell_type": "code",
   "execution_count": 7,
   "metadata": {},
   "outputs": [
    {
     "data": {
      "text/plain": [
       "[(1, 4), (1, 5), (1, 6), (2, 4), (2, 5), (2, 6), (3, 4), (3, 5), (3, 6)]"
      ]
     },
     "execution_count": 7,
     "metadata": {},
     "output_type": "execute_result"
    }
   ],
   "source": [
    "import itertools\n",
    "list(itertools.product([1,2,3], [4,5,6]))"
   ]
  },
  {
   "cell_type": "code",
   "execution_count": 10,
   "metadata": {
    "collapsed": true
   },
   "outputs": [
    {
     "ename": "KeyboardInterrupt",
     "evalue": "",
     "output_type": "error",
     "traceback": [
      "\u001b[0;31m---------------------------------------------------------------------------\u001b[0m",
      "\u001b[0;31mAttributeError\u001b[0m                            Traceback (most recent call last)",
      "\u001b[0;32m~/.conda/envs/py35/lib/python3.5/site-packages/tensorflow/python/ops/array_ops.py\u001b[0m in \u001b[0;36mgather\u001b[0;34m(***failed resolving arguments***)\u001b[0m\n\u001b[1;32m   2672\u001b[0m     \u001b[0;31m# introducing a circular dependency.\u001b[0m\u001b[0;34m\u001b[0m\u001b[0;34m\u001b[0m\u001b[0m\n\u001b[0;32m-> 2673\u001b[0;31m     \u001b[0;32mreturn\u001b[0m \u001b[0mparams\u001b[0m\u001b[0;34m.\u001b[0m\u001b[0msparse_read\u001b[0m\u001b[0;34m(\u001b[0m\u001b[0mindices\u001b[0m\u001b[0;34m,\u001b[0m \u001b[0mname\u001b[0m\u001b[0;34m=\u001b[0m\u001b[0mname\u001b[0m\u001b[0;34m)\u001b[0m\u001b[0;34m\u001b[0m\u001b[0m\n\u001b[0m\u001b[1;32m   2674\u001b[0m   \u001b[0;32mexcept\u001b[0m \u001b[0mAttributeError\u001b[0m\u001b[0;34m:\u001b[0m\u001b[0;34m\u001b[0m\u001b[0m\n",
      "\u001b[0;31mAttributeError\u001b[0m: 'Tensor' object has no attribute 'sparse_read'",
      "\nDuring handling of the above exception, another exception occurred:\n",
      "\u001b[0;31mKeyboardInterrupt\u001b[0m                         Traceback (most recent call last)",
      "\u001b[0;32m<timed exec>\u001b[0m in \u001b[0;36m<module>\u001b[0;34m\u001b[0m\n",
      "\u001b[0;32m~/.conda/envs/py35/lib/python3.5/site-packages/tensorflow/python/ops/array_ops.py\u001b[0m in \u001b[0;36mgather\u001b[0;34m(***failed resolving arguments***)\u001b[0m\n\u001b[1;32m   2673\u001b[0m     \u001b[0;32mreturn\u001b[0m \u001b[0mparams\u001b[0m\u001b[0;34m.\u001b[0m\u001b[0msparse_read\u001b[0m\u001b[0;34m(\u001b[0m\u001b[0mindices\u001b[0m\u001b[0;34m,\u001b[0m \u001b[0mname\u001b[0m\u001b[0;34m=\u001b[0m\u001b[0mname\u001b[0m\u001b[0;34m)\u001b[0m\u001b[0;34m\u001b[0m\u001b[0m\n\u001b[1;32m   2674\u001b[0m   \u001b[0;32mexcept\u001b[0m \u001b[0mAttributeError\u001b[0m\u001b[0;34m:\u001b[0m\u001b[0;34m\u001b[0m\u001b[0m\n\u001b[0;32m-> 2675\u001b[0;31m     \u001b[0;32mreturn\u001b[0m \u001b[0mgen_array_ops\u001b[0m\u001b[0;34m.\u001b[0m\u001b[0mgather_v2\u001b[0m\u001b[0;34m(\u001b[0m\u001b[0mparams\u001b[0m\u001b[0;34m,\u001b[0m \u001b[0mindices\u001b[0m\u001b[0;34m,\u001b[0m \u001b[0maxis\u001b[0m\u001b[0;34m,\u001b[0m \u001b[0mname\u001b[0m\u001b[0;34m=\u001b[0m\u001b[0mname\u001b[0m\u001b[0;34m)\u001b[0m\u001b[0;34m\u001b[0m\u001b[0m\n\u001b[0m\u001b[1;32m   2676\u001b[0m \u001b[0;34m\u001b[0m\u001b[0m\n\u001b[1;32m   2677\u001b[0m \u001b[0;34m\u001b[0m\u001b[0m\n",
      "\u001b[0;32m~/.conda/envs/py35/lib/python3.5/site-packages/tensorflow/python/ops/gen_array_ops.py\u001b[0m in \u001b[0;36mgather_v2\u001b[0;34m(params, indices, axis, name)\u001b[0m\n\u001b[1;32m   3330\u001b[0m   \u001b[0;32mif\u001b[0m \u001b[0m_ctx\u001b[0m \u001b[0;32mis\u001b[0m \u001b[0;32mNone\u001b[0m \u001b[0;32mor\u001b[0m \u001b[0;32mnot\u001b[0m \u001b[0m_ctx\u001b[0m\u001b[0;34m.\u001b[0m\u001b[0m_eager_context\u001b[0m\u001b[0;34m.\u001b[0m\u001b[0mis_eager\u001b[0m\u001b[0;34m:\u001b[0m\u001b[0;34m\u001b[0m\u001b[0m\n\u001b[1;32m   3331\u001b[0m     _, _, _op = _op_def_lib._apply_op_helper(\n\u001b[0;32m-> 3332\u001b[0;31m         \"GatherV2\", params=params, indices=indices, axis=axis, name=name)\n\u001b[0m\u001b[1;32m   3333\u001b[0m     \u001b[0m_result\u001b[0m \u001b[0;34m=\u001b[0m \u001b[0m_op\u001b[0m\u001b[0;34m.\u001b[0m\u001b[0moutputs\u001b[0m\u001b[0;34m[\u001b[0m\u001b[0;34m:\u001b[0m\u001b[0;34m]\u001b[0m\u001b[0;34m\u001b[0m\u001b[0m\n\u001b[1;32m   3334\u001b[0m     \u001b[0m_inputs_flat\u001b[0m \u001b[0;34m=\u001b[0m \u001b[0m_op\u001b[0m\u001b[0;34m.\u001b[0m\u001b[0minputs\u001b[0m\u001b[0;34m\u001b[0m\u001b[0m\n",
      "\u001b[0;32m~/.conda/envs/py35/lib/python3.5/site-packages/tensorflow/python/framework/op_def_library.py\u001b[0m in \u001b[0;36m_apply_op_helper\u001b[0;34m(self, op_type_name, name, **keywords)\u001b[0m\n\u001b[1;32m    348\u001b[0m       \u001b[0;31m# Need to flatten all the arguments into a list.\u001b[0m\u001b[0;34m\u001b[0m\u001b[0;34m\u001b[0m\u001b[0m\n\u001b[1;32m    349\u001b[0m       \u001b[0;31m# pylint: disable=protected-access\u001b[0m\u001b[0;34m\u001b[0m\u001b[0;34m\u001b[0m\u001b[0m\n\u001b[0;32m--> 350\u001b[0;31m       \u001b[0mg\u001b[0m \u001b[0;34m=\u001b[0m \u001b[0mops\u001b[0m\u001b[0;34m.\u001b[0m\u001b[0m_get_graph_from_inputs\u001b[0m\u001b[0;34m(\u001b[0m\u001b[0m_Flatten\u001b[0m\u001b[0;34m(\u001b[0m\u001b[0mkeywords\u001b[0m\u001b[0;34m.\u001b[0m\u001b[0mvalues\u001b[0m\u001b[0;34m(\u001b[0m\u001b[0;34m)\u001b[0m\u001b[0;34m)\u001b[0m\u001b[0;34m)\u001b[0m\u001b[0;34m\u001b[0m\u001b[0m\n\u001b[0m\u001b[1;32m    351\u001b[0m       \u001b[0;31m# pylint: enable=protected-access\u001b[0m\u001b[0;34m\u001b[0m\u001b[0;34m\u001b[0m\u001b[0m\n\u001b[1;32m    352\u001b[0m     \u001b[0;32mexcept\u001b[0m \u001b[0mAssertionError\u001b[0m \u001b[0;32mas\u001b[0m \u001b[0me\u001b[0m\u001b[0;34m:\u001b[0m\u001b[0;34m\u001b[0m\u001b[0m\n",
      "\u001b[0;32m~/.conda/envs/py35/lib/python3.5/site-packages/tensorflow/python/framework/ops.py\u001b[0m in \u001b[0;36m_get_graph_from_inputs\u001b[0;34m(op_input_list, graph)\u001b[0m\n\u001b[1;32m   5646\u001b[0m   \u001b[0;31m#    informative error if a mismatch is found.\u001b[0m\u001b[0;34m\u001b[0m\u001b[0;34m\u001b[0m\u001b[0m\n\u001b[1;32m   5647\u001b[0m   \u001b[0moriginal_graph_element\u001b[0m \u001b[0;34m=\u001b[0m \u001b[0;32mNone\u001b[0m\u001b[0;34m\u001b[0m\u001b[0m\n\u001b[0;32m-> 5648\u001b[0;31m   \u001b[0;32mfor\u001b[0m \u001b[0mop_input\u001b[0m \u001b[0;32min\u001b[0m \u001b[0mop_input_list\u001b[0m\u001b[0;34m:\u001b[0m\u001b[0;34m\u001b[0m\u001b[0m\n\u001b[0m\u001b[1;32m   5649\u001b[0m     \u001b[0;31m# Determine if this is a valid graph_element.\u001b[0m\u001b[0;34m\u001b[0m\u001b[0;34m\u001b[0m\u001b[0m\n\u001b[1;32m   5650\u001b[0m     \u001b[0;31m# TODO(josh11b): Note that we exclude subclasses of Tensor. Need to clean this\u001b[0m\u001b[0;34m\u001b[0m\u001b[0;34m\u001b[0m\u001b[0m\n",
      "\u001b[0;31mKeyboardInterrupt\u001b[0m: "
     ]
    }
   ],
   "source": [
    "%%time\n",
    "c = tf.Variable(tf.random_normal([n_items, n_items], 0.0, 0.01))\n",
    "c_u = np.zeros((n_users, n_items))\n",
    "for u, i in zip(train_user_indices, train_item_indices):\n",
    "    u_items = list(data[u].keys())\n",
    "    c_ij = tf.reduce_sum(tf.gather(tf.gather(c, i), u_items)) / \\\n",
    "           tf.sqrt(tf.cast(tf.size(u_items), tf.float32))\n",
    "    c_u[u, i] = c_ij\n",
    "    \n",
    "sess = tf.InteractiveSession()\n",
    "sess.run(tf.global_variables_initializer())\n",
    "sess.run(c_u)"
   ]
  },
  {
   "cell_type": "markdown",
   "metadata": {},
   "source": [
    "#### embedding_lookup"
   ]
  },
  {
   "cell_type": "code",
   "execution_count": 96,
   "metadata": {},
   "outputs": [
    {
     "data": {
      "text/plain": [
       "[array([[1, 2, 3, 4, 5],\n",
       "        [4, 5, 6, 3, 9]], dtype=int32),\n",
       " array([ 5,  7,  9,  7, 14], dtype=int32)]"
      ]
     },
     "execution_count": 96,
     "metadata": {},
     "output_type": "execute_result"
    }
   ],
   "source": [
    "aa = tf.constant([[1,2,3,4,5], [4,5,6,3,9]])\n",
    "bb = tf.nn.embedding_lookup(aa, [[0,1], [1,1]])\n",
    "user = tf.gather(bb, 0)\n",
    "yj = tf.reduce_sum(user ,axis=0)\n",
    "sess = tf.InteractiveSession()\n",
    "sess.run([user, yj])"
   ]
  },
  {
   "cell_type": "code",
   "execution_count": 11,
   "metadata": {},
   "outputs": [
    {
     "data": {
      "text/plain": [
       "array([[[1, 2, 3],\n",
       "        [4, 5, 6]]], dtype=int32)"
      ]
     },
     "execution_count": 11,
     "metadata": {},
     "output_type": "execute_result"
    }
   ],
   "source": [
    "aa = tf.constant([[1,2,3], [4,5,6]])\n",
    "bb = tf.nn.embedding_lookup(aa, [[0,1]])\n",
    "sess = tf.InteractiveSession()\n",
    "sess.run(bb)"
   ]
  },
  {
   "cell_type": "markdown",
   "metadata": {},
   "source": [
    "#### embedding_lookup_sparse"
   ]
  },
  {
   "cell_type": "code",
   "execution_count": 88,
   "metadata": {},
   "outputs": [
    {
     "data": {
      "text/plain": [
       "array([[0., 1., 2., 3., 4.],\n",
       "       [5., 6., 7., 8., 9.]])"
      ]
     },
     "execution_count": 88,
     "metadata": {},
     "output_type": "execute_result"
    }
   ],
   "source": [
    "aa = np.arange(10).reshape(2,5).astype(float)\n",
    "aa"
   ]
  },
  {
   "cell_type": "code",
   "execution_count": 90,
   "metadata": {},
   "outputs": [
    {
     "name": "stdout",
     "output_type": "stream",
     "text": [
      "WARNING:tensorflow:The default value of combiner will change from \"mean\" to \"sqrtn\" after 2016/11/01.\n"
     ]
    },
    {
     "data": {
      "text/plain": [
       "array([[2.5, 3.5, 4.5, 5.5, 6.5],\n",
       "       [5. , 6. , 7. , 8. , 9. ],\n",
       "       [5. , 6. , 7. , 8. , 9. ]])"
      ]
     },
     "execution_count": 90,
     "metadata": {},
     "output_type": "execute_result"
    }
   ],
   "source": [
    "indices = [[0,0], [0,0], [1,1], [2,1], [2,2], [2,2]]\n",
    "values = [0,1,1,1,1,1]\n",
    "dense_shape = [2,15]\n",
    "st = tf.SparseTensor(indices, values, dense_shape)\n",
    "# aa = tf.constant([[1,2,3], [4,5,6]], dtype=tf.float32)\n",
    "bb = tf.nn.embedding_lookup_sparse(aa, st, sp_weights=None)\n",
    "sess = tf.InteractiveSession()\n",
    "sess.run(bb)"
   ]
  },
  {
   "cell_type": "code",
   "execution_count": 84,
   "metadata": {
    "scrolled": true
   },
   "outputs": [
    {
     "data": {
      "text/plain": [
       "array([[[ 0.,  1.,  2.],\n",
       "        [ 3.,  4.,  5.],\n",
       "        [ 6.,  7.,  8.]],\n",
       "\n",
       "       [[ 9., 10., 11.],\n",
       "        [12., 13., 14.],\n",
       "        [15., 16., 17.]],\n",
       "\n",
       "       [[18., 19., 20.],\n",
       "        [21., 22., 23.],\n",
       "        [24., 25., 26.]]])"
      ]
     },
     "execution_count": 84,
     "metadata": {},
     "output_type": "execute_result"
    }
   ],
   "source": [
    "aa = np.arange(27).reshape(3,3,3).astype(float)\n",
    "aa"
   ]
  },
  {
   "cell_type": "code",
   "execution_count": 86,
   "metadata": {},
   "outputs": [
    {
     "name": "stdout",
     "output_type": "stream",
     "text": [
      "WARNING:tensorflow:The default value of combiner will change from \"mean\" to \"sqrtn\" after 2016/11/01.\n"
     ]
    },
    {
     "data": {
      "text/plain": [
       "array([[[12., 13., 14.],\n",
       "        [15., 16., 17.],\n",
       "        [18., 19., 20.]],\n",
       "\n",
       "       [[ 0.,  0.,  0.],\n",
       "        [ 0.,  0.,  0.],\n",
       "        [ 0.,  0.,  0.]],\n",
       "\n",
       "       [[ 9., 10., 11.],\n",
       "        [12., 13., 14.],\n",
       "        [15., 16., 17.]],\n",
       "\n",
       "       [[18., 19., 20.],\n",
       "        [21., 22., 23.],\n",
       "        [24., 25., 26.]]])"
      ]
     },
     "execution_count": 86,
     "metadata": {},
     "output_type": "execute_result"
    }
   ],
   "source": [
    "indices = [[0,0], [0,1], [0,1], [2,1], [2,2], [3,2]]\n",
    "values = [1,2,1,1,1,2]\n",
    "dense_shape = [2,15]\n",
    "st = tf.SparseTensor(indices, values, dense_shape)\n",
    "# aa = tf.constant([[1,2,3], [4,5,6]], dtype=tf.float32)\n",
    "bb = tf.nn.embedding_lookup_sparse(aa, st, sp_weights=None)\n",
    "sess = tf.InteractiveSession()\n",
    "sess.run(bb)"
   ]
  },
  {
   "cell_type": "code",
   "execution_count": 108,
   "metadata": {
    "scrolled": true
   },
   "outputs": [
    {
     "data": {
      "text/plain": [
       "[array([[-0.00455127,  0.01736358, -0.0011284 ,  0.00255089, -0.00957593,\n",
       "         -0.0020925 , -0.01266749, -0.00326786,  0.00396166, -0.00969134,\n",
       "         -0.00675968, -0.00487921, -0.00627048,  0.00205449, -0.00103079,\n",
       "          0.00094458, -0.00496926, -0.0083558 ,  0.00159714, -0.01686201,\n",
       "         -0.00210911, -0.00651083, -0.00908738,  0.01984688,  0.00605965,\n",
       "         -0.01005583, -0.01515545, -0.00346797, -0.00997632, -0.01489756,\n",
       "          0.00344885, -0.00133769,  0.00312323,  0.01420122,  0.01937641,\n",
       "         -0.00676895,  0.00130137,  0.00923016,  0.00342921,  0.00403274,\n",
       "         -0.01719966,  0.00515556,  0.00074134, -0.00503118,  0.00809505,\n",
       "          0.00481872, -0.00567423,  0.00239443,  0.00779041,  0.02053146,\n",
       "          0.00215945,  0.00928877, -0.00847241, -0.00300206, -0.00708658,\n",
       "          0.00164711,  0.00276376,  0.00022526, -0.01156578, -0.00452333,\n",
       "         -0.00070281, -0.00081126, -0.00629355,  0.01388548,  0.02596579,\n",
       "          0.00765122,  0.02379264,  0.01156866, -0.00106809, -0.00255315,\n",
       "         -0.00542865,  0.00573009,  0.00801892,  0.00796182, -0.01034158,\n",
       "          0.00885141,  0.00702093, -0.0042366 , -0.00978541, -0.01893176,\n",
       "          0.00693618,  0.00208274,  0.00870421, -0.00420164, -0.00510583,\n",
       "          0.00431245, -0.00207968, -0.00710661, -0.0006172 , -0.0019692 ,\n",
       "         -0.00108667, -0.01587388,  0.007997  ,  0.0019032 , -0.0006219 ,\n",
       "         -0.00449173,  0.00474171,  0.01039344, -0.00097578, -0.00639347],\n",
       "        [-0.00455127,  0.01736358, -0.0011284 ,  0.00255089, -0.00957593,\n",
       "         -0.0020925 , -0.01266749, -0.00326786,  0.00396166, -0.00969134,\n",
       "         -0.00675968, -0.00487921, -0.00627048,  0.00205449, -0.00103079,\n",
       "          0.00094458, -0.00496926, -0.0083558 ,  0.00159714, -0.01686201,\n",
       "         -0.00210911, -0.00651083, -0.00908738,  0.01984688,  0.00605965,\n",
       "         -0.01005583, -0.01515545, -0.00346797, -0.00997632, -0.01489756,\n",
       "          0.00344885, -0.00133769,  0.00312323,  0.01420122,  0.01937641,\n",
       "         -0.00676895,  0.00130137,  0.00923016,  0.00342921,  0.00403274,\n",
       "         -0.01719966,  0.00515556,  0.00074134, -0.00503118,  0.00809505,\n",
       "          0.00481872, -0.00567423,  0.00239443,  0.00779041,  0.02053146,\n",
       "          0.00215945,  0.00928877, -0.00847241, -0.00300206, -0.00708658,\n",
       "          0.00164711,  0.00276376,  0.00022526, -0.01156578, -0.00452333,\n",
       "         -0.00070281, -0.00081126, -0.00629355,  0.01388548,  0.02596579,\n",
       "          0.00765122,  0.02379264,  0.01156866, -0.00106809, -0.00255315,\n",
       "         -0.00542865,  0.00573009,  0.00801892,  0.00796182, -0.01034158,\n",
       "          0.00885141,  0.00702093, -0.0042366 , -0.00978541, -0.01893176,\n",
       "          0.00693618,  0.00208274,  0.00870421, -0.00420164, -0.00510583,\n",
       "          0.00431245, -0.00207968, -0.00710661, -0.0006172 , -0.0019692 ,\n",
       "         -0.00108667, -0.01587388,  0.007997  ,  0.0019032 , -0.0006219 ,\n",
       "         -0.00449173,  0.00474171,  0.01039344, -0.00097578, -0.00639347],\n",
       "        [-0.00472326, -0.01334624,  0.00548755, -0.00943531, -0.00243722,\n",
       "         -0.00385951,  0.00439932, -0.01738031, -0.00990659, -0.0137385 ,\n",
       "         -0.0028155 ,  0.01502035,  0.00533242, -0.0006885 , -0.00889156,\n",
       "          0.00879662,  0.00685805,  0.00333977,  0.00835315, -0.01135232,\n",
       "         -0.00221364, -0.01648221, -0.00798505,  0.00110527, -0.00833734,\n",
       "          0.00394978,  0.00320985, -0.00896856,  0.00318566,  0.0067419 ,\n",
       "          0.00905036,  0.02431093, -0.00889234,  0.00054242, -0.00990696,\n",
       "          0.00510098, -0.00638029,  0.01396194,  0.00458394, -0.00604428,\n",
       "         -0.00751599,  0.00048757, -0.00612146,  0.00578077, -0.00208263,\n",
       "          0.01246587, -0.01440913, -0.00075256,  0.00774926, -0.01192797,\n",
       "         -0.00507286, -0.01860022,  0.00511476, -0.00741053, -0.01680316,\n",
       "          0.0118481 , -0.01399545, -0.02412163,  0.00443207, -0.00746111,\n",
       "          0.00170914, -0.00955505, -0.01382175, -0.00321057,  0.02560257,\n",
       "          0.00462857, -0.01196908, -0.0002429 ,  0.01152627, -0.00332834,\n",
       "         -0.00553394, -0.00061159,  0.00279375, -0.00220001, -0.00446545,\n",
       "         -0.01584169,  0.00380764, -0.00357322,  0.00941264,  0.00117311,\n",
       "          0.00179284, -0.01261975,  0.01657911, -0.00260486, -0.01486656,\n",
       "          0.01485705,  0.00114793,  0.00132373,  0.01630409,  0.00099097,\n",
       "         -0.00821337, -0.0086867 , -0.01557204, -0.00143044, -0.00437045,\n",
       "          0.00443698,  0.00207294,  0.00583197,  0.01987113, -0.02201726]],\n",
       "       dtype=float32), array([  3, 100], dtype=int32)]"
      ]
     },
     "execution_count": 108,
     "metadata": {},
     "output_type": "execute_result"
    }
   ],
   "source": [
    "N = [[] for u in range(n_users)]\n",
    "for u, i, in zip(train_user_indices, train_item_indices):\n",
    "    N[u].append(i)\n",
    "\n",
    "sparse = {'indices': [], 'values': []}\n",
    "for i, user in enumerate(N):\n",
    "    for j, item in enumerate(user):\n",
    "        sparse['indices'].append((i, j))\n",
    "        sparse['values'].append(item)\n",
    "        \n",
    "sparse['dense_shape'] = (n_users, n_items)\n",
    "implicit_feedback = tf.SparseTensor(**sparse)\n",
    "\n",
    "yj = tf.Variable(tf.random_normal([n_items, n_factors], 0.0, 0.01))\n",
    "yjs = tf.nn.embedding_lookup_sparse(yj, implicit_feedback, sp_weights=None, combiner='sqrtn')\n",
    "yju = tf.gather(yjs, [2,2,3])\n",
    "sess = tf.InteractiveSession()\n",
    "sess.run(tf.global_variables_initializer())\n",
    "sess.run([yju, tf.shape(yju)])"
   ]
  },
  {
   "cell_type": "markdown",
   "metadata": {},
   "source": [
    "## Dataset API"
   ]
  },
  {
   "cell_type": "code",
   "execution_count": 2,
   "metadata": {},
   "outputs": [
    {
     "name": "stdout",
     "output_type": "stream",
     "text": [
      "1.0\n",
      "2.0\n",
      "3.0\n",
      "4.0\n",
      "5.0\n",
      "End!\n"
     ]
    }
   ],
   "source": [
    "dataset = tf.data.Dataset.from_tensor_slices(np.array([1.0, 2.0, 3.0, 4.0, 5.0]))\n",
    "iterator = dataset.make_one_shot_iterator()\n",
    "one_element = iterator.get_next()\n",
    "with tf.Session() as sess:\n",
    "    try:\n",
    "        while 1:\n",
    "            print(sess.run(one_element))\n",
    "    except tf.errors.OutOfRangeError:\n",
    "        print(\"End!\")"
   ]
  },
  {
   "cell_type": "code",
   "execution_count": 13,
   "metadata": {
    "collapsed": true
   },
   "outputs": [],
   "source": [
    "dataset = tf.data.Dataset.from_tensor_slices(\n",
    "    {\n",
    "        \"a\": np.array([1.0, 2.0, 3.0, 4.0, 5.0]), \n",
    "        \"b\": np.random.uniform(size=(5,2))\n",
    "    })"
   ]
  },
  {
   "cell_type": "code",
   "execution_count": 14,
   "metadata": {},
   "outputs": [
    {
     "data": {
      "text/plain": [
       "({'a': tf.float64, 'b': tf.float64},\n",
       " {'a': TensorShape([]), 'b': TensorShape([Dimension(2)])})"
      ]
     },
     "execution_count": 14,
     "metadata": {},
     "output_type": "execute_result"
    }
   ],
   "source": [
    "dataset.output_types, dataset.output_shapes"
   ]
  },
  {
   "cell_type": "code",
   "execution_count": 19,
   "metadata": {},
   "outputs": [
    {
     "data": {
      "text/plain": [
       "[array([0.83989501, 0.6755826 ]), 2.0]"
      ]
     },
     "execution_count": 19,
     "metadata": {},
     "output_type": "execute_result"
    }
   ],
   "source": [
    "c = tf.constant([4.0, 2.0, 3.0])\n",
    "iterator = dataset.make_one_shot_iterator()\n",
    "one_element = iterator.get_next()\n",
    "sess = tf.InteractiveSession()\n",
    "sess.run([one_element['b'], tf.gather(c, tf.cast(one_element['a'], tf.int32))])"
   ]
  },
  {
   "cell_type": "code",
   "execution_count": 5,
   "metadata": {},
   "outputs": [
    {
     "name": "stdout",
     "output_type": "stream",
     "text": [
      "3.0\n",
      "4.0\n",
      "5.0\n",
      "6.0\n",
      "7.0\n",
      "End!\n"
     ]
    }
   ],
   "source": [
    "dataset = tf.data.Dataset.from_tensor_slices(np.array([1.0, 2.0, 3.0, 4.0, 5.0]))\n",
    "dataset = dataset.map(lambda x: x + 2)\n",
    "iterator = dataset.make_one_shot_iterator()\n",
    "one_element = iterator.get_next()\n",
    "sess = tf.InteractiveSession()\n",
    "try:\n",
    "    while True:\n",
    "        print(sess.run(one_element))\n",
    "except tf.errors.OutOfRangeError:\n",
    "    print(\"End!\")"
   ]
  },
  {
   "cell_type": "code",
   "execution_count": 10,
   "metadata": {},
   "outputs": [
    {
     "name": "stdout",
     "output_type": "stream",
     "text": [
      "[40  4 87 58 84 79 93 90 24  6 88 32 43 36 53 81 31 14 45 52 12 61 21 85\n",
      " 38 22 20 69 29 65 17 44]\n",
      "[92  9 73 62  2  5 10 82 68 25 37 13 49 57 89 18 95 46 48 33 72 86 63 26\n",
      " 91  8  7 56 51 41 11 94]\n",
      "[55 16 47 35 15 50 39 19 23 74  1 34 60 76 77 66 75  0 30 59 28 78  3 67\n",
      " 70 80 42 71 54 83 64 27]\n",
      "End!\n"
     ]
    }
   ],
   "source": [
    "dataset = tf.data.Dataset.from_tensor_slices(np.random.permutation(np.arange(32*3)))\n",
    "dataset = dataset.batch(32)\n",
    "iterator = dataset.make_one_shot_iterator()\n",
    "one_element = iterator.get_next()\n",
    "sess = tf.InteractiveSession()\n",
    "try:\n",
    "    while True:\n",
    "        print(sess.run(one_element))\n",
    "except tf.errors.OutOfRangeError:\n",
    "    print(\"End!\")"
   ]
  },
  {
   "cell_type": "code",
   "execution_count": 43,
   "metadata": {
    "collapsed": true
   },
   "outputs": [],
   "source": [
    "limit = tf.placeholder(dtype=tf.int32, shape=[])\n",
    "dataset = tf.data.Dataset.from_tensor_slices(tf.range(start=0, limit=limit))\n",
    "iterator = dataset.make_initializable_iterator()\n",
    "next_element = iterator.get_next()\n",
    "with tf.Session() as sess:\n",
    "    sess.run(iterator.initializer, feed_dict={limit: 10})\n",
    "    for i in range(10):\n",
    "        value = sess.run(next_element)\n",
    "        assert i == value"
   ]
  },
  {
   "cell_type": "code",
   "execution_count": 48,
   "metadata": {},
   "outputs": [
    {
     "name": "stdout",
     "output_type": "stream",
     "text": [
      "{'a': tf.float32, 'b': tf.int32}\n",
      "{'a': TensorShape([]), 'b': TensorShape([Dimension(100)])}\n"
     ]
    }
   ],
   "source": [
    "dataset = tf.data.Dataset.from_tensor_slices(\n",
    "    {\"a\": tf.random_uniform([4]), \n",
    "     \"b\": tf.random_uniform([4, 100], maxval=100, dtype=tf.int32)})\n",
    "print(dataset.output_types)\n",
    "print(dataset.output_shapes)"
   ]
  },
  {
   "cell_type": "code",
   "execution_count": 3,
   "metadata": {
    "collapsed": true
   },
   "outputs": [
    {
     "name": "stdout",
     "output_type": "stream",
     "text": [
      "0 0\n",
      "2 10\n",
      "4 20\n",
      "6 30\n",
      "8 40\n",
      "10 50\n",
      "12 60\n",
      "14 70\n",
      "16 80\n",
      "18 90\n",
      "0 0\n",
      "2 10\n",
      "4 20\n",
      "6 30\n",
      "8 40\n",
      "10 50\n",
      "12 60\n",
      "14 70\n",
      "16 80\n",
      "18 90\n",
      "0 0\n",
      "2 10\n",
      "4 20\n",
      "6 30\n",
      "8 40\n",
      "10 50\n",
      "12 60\n",
      "14 70\n",
      "16 80\n",
      "18 90\n"
     ]
    }
   ],
   "source": [
    "iterator = tf.data.Iterator.from_structure(tf.int64, tf.TensorShape([]))\n",
    "dataset_range = tf.data.Dataset.range(10)\n",
    "range_initializer = iterator.make_initializer(dataset_range)\n",
    "dataset_evens = dataset_range.filter(lambda x: x % 2 == 0)\n",
    "evens_initializer = iterator.make_initializer(dataset_evens)\n",
    "\n",
    "def model_fn(a):\n",
    "    return a * 2, a * 10\n",
    "\n",
    "sess = tf.InteractiveSession()\n",
    "prediction, loss = model_fn(iterator.get_next())\n",
    "for _ in range(3):\n",
    "    sess.run(range_initializer)\n",
    "    while True:\n",
    "        try:\n",
    "            pred, loss_val = sess.run([prediction, loss])\n",
    "            print(pred, loss_val)\n",
    "        except tf.errors.OutOfRangeError:\n",
    "            break\n",
    "    \n",
    "    sess.run(evens_initializer)\n",
    "    while True:\n",
    "        try:\n",
    "            pred, loss_val = sess.run([prediction, loss])\n",
    "            print(\"twooooo\")\n",
    "            print(pred, loss_val)\n",
    "        except tf.errors.OutOfRangeError:\n",
    "            break"
   ]
  },
  {
   "cell_type": "code",
   "execution_count": 15,
   "metadata": {},
   "outputs": [
    {
     "name": "stdout",
     "output_type": "stream",
     "text": [
      "[0 2] [ 0 10]\n",
      "[4 6] [20 30]\n",
      "[ 8 10] [40 50]\n",
      "[12 14] [60 70]\n",
      "[16 18] [80 90]\n"
     ]
    }
   ],
   "source": [
    "#　iterator = tf.data.Iterator.from_structure(tf.int32, tf.TensorShape([None]))\n",
    "# dataset_range = tf.data.Dataset.range(10)\n",
    "\n",
    "dataset_range = tf.data.Dataset.from_tensor_slices(np.arange(10, dtype=np.int32))\n",
    "dataset_range = dataset_range.batch(2)\n",
    "iterator = tf.data.Iterator.from_structure(dataset_range.output_types, dataset_range.output_shapes)\n",
    "range_initializer = iterator.make_initializer(dataset_range)\n",
    "dataset_evens = dataset_range.filter(lambda x: x % 2 == 0)\n",
    "evens_initializer = iterator.make_initializer(dataset_evens)\n",
    "\n",
    "def model_fn(a):\n",
    "    return a * 2, a * 10\n",
    "\n",
    "sess = tf.InteractiveSession()\n",
    "prediction, loss = model_fn(iterator.get_next())\n",
    "for _ in range(1):\n",
    "    sess.run(range_initializer)\n",
    "    while True:\n",
    "        try:\n",
    "            pred, loss_val = sess.run([prediction, loss])\n",
    "            print(pred, loss_val)\n",
    "        except tf.errors.OutOfRangeError:\n",
    "            break\n",
    "    \n",
    "    sess.run(evens_initializer)\n",
    "    while True:\n",
    "        try:\n",
    "            pred, loss_val = sess.run([prediction, loss])\n",
    "            print(\"twooooo\")\n",
    "            print(pred, loss_val)\n",
    "        except tf.errors.OutOfRangeError:\n",
    "            break"
   ]
  },
  {
   "cell_type": "code",
   "execution_count": 2,
   "metadata": {},
   "outputs": [
    {
     "name": "stdout",
     "output_type": "stream",
     "text": [
      "0\n",
      "1\n",
      "2\n",
      "3\n",
      "4\n",
      "5\n",
      "6\n",
      "7\n",
      "8\n",
      "9\n"
     ]
    }
   ],
   "source": [
    "max_value =tf.placeholder(tf.int64, shape=[])\n",
    "dataset = tf.data.Dataset.range(max_value)\n",
    "iterator = dataset.make_initializable_iterator()\n",
    "next_element = iterator.get_next()\n",
    "\n",
    "sess = tf.Session()\n",
    "sess.run(tf.global_variables_initializer())\n",
    "sess.run(iterator.initializer, feed_dict={max_value: 10})\n",
    "for i in range(10):\n",
    "    value = sess.run(next_element)\n",
    "    assert i == value\n",
    "    print(value)"
   ]
  },
  {
   "cell_type": "code",
   "execution_count": null,
   "metadata": {
    "collapsed": true
   },
   "outputs": [],
   "source": []
  },
  {
   "cell_type": "markdown",
   "metadata": {},
   "source": [
    "## Dataset Module"
   ]
  },
  {
   "cell_type": "code",
   "execution_count": 133,
   "metadata": {},
   "outputs": [
    {
     "name": "stdout",
     "output_type": "stream",
     "text": [
      "The autoreload extension is already loaded. To reload it, use:\n",
      "  %reload_ext autoreload\n"
     ]
    }
   ],
   "source": [
    "%load_ext autoreload\n",
    "%autoreload 2\n",
    "%reload_ext autoreload"
   ]
  },
  {
   "cell_type": "code",
   "execution_count": 2,
   "metadata": {},
   "outputs": [],
   "source": [
    "from Dataset.Dataset import Dataset"
   ]
  },
  {
   "cell_type": "code",
   "execution_count": 3,
   "metadata": {},
   "outputs": [],
   "source": [
    "ml = Dataset.load_dataset(data_path=\"ml-1m/ratings.dat\")\n",
    "ml_data = Dataset()\n",
    "ml_data.build_dataset(ml)"
   ]
  },
  {
   "cell_type": "code",
   "execution_count": 5,
   "metadata": {},
   "outputs": [],
   "source": [
    "LOOV = ml_data.train_test_split_LOOV(k=2)"
   ]
  },
  {
   "cell_type": "code",
   "execution_count": null,
   "metadata": {},
   "outputs": [],
   "source": []
  },
  {
   "cell_type": "code",
   "execution_count": 88,
   "metadata": {
    "scrolled": true
   },
   "outputs": [],
   "source": [
    "users, user_position, user_counts = np.unique(ml_data.user_indices, return_inverse=True, return_counts=True)"
   ]
  },
  {
   "cell_type": "code",
   "execution_count": 89,
   "metadata": {},
   "outputs": [],
   "source": [
    "user_indices = np.split(np.argsort(user_position, kind=\"mergesort\"), np.cumsum(user_counts)[:-1])"
   ]
  },
  {
   "cell_type": "code",
   "execution_count": 90,
   "metadata": {},
   "outputs": [
    {
     "data": {
      "text/plain": [
       "((53,),\n",
       " array([ 0,  1,  2,  3,  4,  5,  6,  7,  8,  9, 10, 11, 12, 13, 14, 15, 16,\n",
       "        17, 18, 19, 20, 21, 22, 23, 24, 25, 26, 27, 28, 29, 30, 31, 32, 33,\n",
       "        34, 35, 36, 37, 38, 39, 40, 41, 42, 43, 44, 45, 46, 47, 48, 49, 50,\n",
       "        51, 52]))"
      ]
     },
     "execution_count": 90,
     "metadata": {},
     "output_type": "execute_result"
    }
   ],
   "source": [
    "user_indices[0].shape, user_indices[0]"
   ]
  },
  {
   "cell_type": "code",
   "execution_count": 22,
   "metadata": {},
   "outputs": [
    {
     "data": {
      "text/plain": [
       "array([ 53, 129,  51, ...,  20, 123, 341])"
      ]
     },
     "execution_count": 22,
     "metadata": {},
     "output_type": "execute_result"
    }
   ],
   "source": [
    "user_counts"
   ]
  },
  {
   "cell_type": "code",
   "execution_count": 131,
   "metadata": {},
   "outputs": [],
   "source": [
    "user_set = set(ml_data.user_indices)\n",
    "train_user_indices = []\n",
    "test_user_indices = []\n",
    "train_item_indices = []\n",
    "test_item_indices = []\n",
    "train_ratings = []\n",
    "test_ratings = []\n",
    "train_data = defaultdict(dict)\n",
    "test_data = defaultdict(dict)\n",
    "# for u in range(len(user_set)):\n",
    "for u in ml_data.data.keys():\n",
    "    user_length = len(user_indices[u])\n",
    "    if user_length <= k:\n",
    "        p = 1\n",
    "    else:\n",
    "        p = k\n",
    "    train_indices = user_indices[u][:-p]\n",
    "    test_indices = user_indices[u][-p:]\n",
    "    \n",
    "    train_user_indices.extend(ml_data.user_indices[train_indices])\n",
    "    test_user_indices.extend(ml_data.user_indices[test_indices])\n",
    "    train_item_indices.extend(ml_data.item_indices[train_indices])\n",
    "    test_item_indices.extend(ml_data.item_indices[test_indices])\n",
    "    train_ratings.extend(ml_data.ratings[train_indices])\n",
    "    test_ratings.extend(ml_data.ratings[test_indices])\n",
    "    \n",
    "for u, i, r in zip(train_user_indices, train_item_indices, train_ratings):\n",
    "    train_data[u].update(dict(zip([i], [r])))\n",
    "for u, i, r in zip(test_user_indices, test_item_indices, test_ratings):\n",
    "    test_data[u].update(dict(zip([i], [r])))"
   ]
  },
  {
   "cell_type": "code",
   "execution_count": 132,
   "metadata": {
    "scrolled": true
   },
   "outputs": [
    {
     "data": {
      "text/plain": [
       "51"
      ]
     },
     "execution_count": 132,
     "metadata": {},
     "output_type": "execute_result"
    }
   ],
   "source": [
    "len(train_data[0])"
   ]
  },
  {
   "cell_type": "code",
   "execution_count": 113,
   "metadata": {
    "scrolled": true
   },
   "outputs": [
    {
     "data": {
      "text/plain": [
       "Counter({1: 55645, 2: 106507, 3: 258472, 4: 344765, 5: 222740})"
      ]
     },
     "execution_count": 113,
     "metadata": {},
     "output_type": "execute_result"
    }
   ],
   "source": [
    "aa = np.array(train_ratings)\n",
    "from collections import Counter\n",
    "Counter(aa)"
   ]
  },
  {
   "cell_type": "code",
   "execution_count": 114,
   "metadata": {},
   "outputs": [
    {
     "data": {
      "text/plain": [
       "Counter({1: 529, 2: 1050, 3: 2725, 4: 4206, 5: 3570})"
      ]
     },
     "execution_count": 114,
     "metadata": {},
     "output_type": "execute_result"
    }
   ],
   "source": [
    "bb = np.array(test_ratings)\n",
    "from collections import Counter\n",
    "Counter(bb)"
   ]
  },
  {
   "cell_type": "code",
   "execution_count": null,
   "metadata": {},
   "outputs": [],
   "source": []
  },
  {
   "cell_type": "code",
   "execution_count": null,
   "metadata": {},
   "outputs": [],
   "source": []
  },
  {
   "cell_type": "code",
   "execution_count": null,
   "metadata": {},
   "outputs": [],
   "source": []
  },
  {
   "cell_type": "code",
   "execution_count": null,
   "metadata": {},
   "outputs": [],
   "source": []
  },
  {
   "cell_type": "code",
   "execution_count": null,
   "metadata": {},
   "outputs": [],
   "source": []
  },
  {
   "cell_type": "code",
   "execution_count": null,
   "metadata": {},
   "outputs": [],
   "source": []
  },
  {
   "cell_type": "code",
   "execution_count": null,
   "metadata": {},
   "outputs": [],
   "source": []
  },
  {
   "cell_type": "code",
   "execution_count": null,
   "metadata": {},
   "outputs": [],
   "source": []
  },
  {
   "cell_type": "code",
   "execution_count": null,
   "metadata": {},
   "outputs": [],
   "source": []
  },
  {
   "cell_type": "code",
   "execution_count": null,
   "metadata": {},
   "outputs": [],
   "source": []
  }
 ],
 "metadata": {
  "anaconda-cloud": {},
  "kernelspec": {
   "display_name": "Python 3",
   "language": "python",
   "name": "python3"
  },
  "language_info": {
   "codemirror_mode": {
    "name": "ipython",
    "version": 3
   },
   "file_extension": ".py",
   "mimetype": "text/x-python",
   "name": "python",
   "nbconvert_exporter": "python",
   "pygments_lexer": "ipython3",
   "version": "3.5.4"
  }
 },
 "nbformat": 4,
 "nbformat_minor": 2
}
